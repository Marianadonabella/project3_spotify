{
 "cells": [
  {
   "cell_type": "markdown",
   "metadata": {},
   "source": [
    "Here we will deal with the coding we have using spotify's api and returning a song, and make small functions out of it, so we can call them in the product prototype, which is the last thing on this notebook"
   ]
  },
  {
   "cell_type": "code",
   "execution_count": 1,
   "metadata": {},
   "outputs": [],
   "source": [
    "import spotipy # install if needed\n",
    "from spotipy.oauth2 import SpotifyClientCredentials"
   ]
  },
  {
   "cell_type": "code",
   "execution_count": 2,
   "metadata": {},
   "outputs": [],
   "source": [
    "#Initialize SpotiPy with user credentias\n",
    "sp = spotipy.Spotify(auth_manager=SpotifyClientCredentials(\n",
    "    client_id=\"6582a8f807004727b3bc8a7c281ae02c\",\n",
    "    client_secret=\"c38fc3efa7f74def856cb96d000fd6ea\"))"
   ]
  },
  {
   "cell_type": "code",
   "execution_count": 3,
   "metadata": {},
   "outputs": [],
   "source": [
    "#create a list of playlists url's:\n",
    "\n",
    "list_url = [\"https://open.spotify.com/playlist/13qezNPeoOZbnpgYdvfXzw\", \"https://open.spotify.com/playlist/7vse1mpYM4ZZMAnFjtDmxn\", \"https://open.spotify.com/playlist/5BrB90Tlv372JYksHKEUUC\", \"https://open.spotify.com/playlist/4gGVp5hZBGMT5u8Umwy71i\", \"https://open.spotify.com/playlist/69IzgRxJudWrroRkFz6rqD\", \"https://open.spotify.com/playlist/7Bz2d7LtQAA4sdqjK54ihN\", \"https://open.spotify.com/playlist/3jN4ozUr5QnxLJAuWSOz8L\", \"https://open.spotify.com/playlist/7nb8QoKz6X7j43a8JLDWWa\", \"https://open.spotify.com/playlist/0Elk90H3u3Pii6HmU7uwDQ\", \"https://open.spotify.com/playlist/5jL36juHp2hI5p4w7Otkp8\", \"https://open.spotify.com/playlist/1FNxkddOTy0dEQjzO605Mu\", \"https://open.spotify.com/playlist/71AoD5gr7igctQEioLcrgs\", \"https://open.spotify.com/playlist/28PCyERc69PVABnVlhzCzK\", \"https://open.spotify.com/playlist/1AHXVPpZj0ttq2kEHfRrBz\", \"https://open.spotify.com/playlist/7GQpGQ7mo1qNgjRYzTIROw\", \"https://open.spotify.com/playlist/1n6ApCcBNm1LlObavhViZV\", \"https://open.spotify.com/playlist/52p0TeTGoMt2bdYaCgDgGi\", \"https://open.spotify.com/playlist/1vs8WUfA0QQO4V0rtVpFKX\"]\n"
   ]
  },
  {
   "cell_type": "code",
   "execution_count": 4,
   "metadata": {},
   "outputs": [
    {
     "name": "stdout",
     "output_type": "stream",
     "text": [
      "37\n"
     ]
    }
   ],
   "source": [
    "#getting content of the playlists with \"next\"\n",
    "playlists = []\n",
    "for i in list_url:\n",
    "    track = sp.user_playlist_tracks(\"spotify\", i)\n",
    "    playlists.append(track)\n",
    "    while track['next']:\n",
    "        track = sp.next(track)\n",
    "        playlists.append(track) \n",
    "print(len(playlists))\n"
   ]
  },
  {
   "cell_type": "code",
   "execution_count": 5,
   "metadata": {},
   "outputs": [
    {
     "name": "stdout",
     "output_type": "stream",
     "text": [
      "2977\n"
     ]
    }
   ],
   "source": [
    "songs = []\n",
    "for i in range(len(playlists)):\n",
    "    for song in playlists[i][\"items\"]:\n",
    "        songs.append(song[\"track\"][\"name\"])\n",
    "print(len(songs))\n",
    "    "
   ]
  },
  {
   "cell_type": "code",
   "execution_count": 6,
   "metadata": {},
   "outputs": [
    {
     "data": {
      "text/plain": [
       "2619"
      ]
     },
     "execution_count": 6,
     "metadata": {},
     "output_type": "execute_result"
    }
   ],
   "source": [
    "len(set(songs))"
   ]
  },
  {
   "cell_type": "code",
   "execution_count": 7,
   "metadata": {},
   "outputs": [],
   "source": [
    "def get_uri():\n",
    "    uris = []\n",
    "    for i in range(len(playlists)):\n",
    "        for uri in playlists[i][\"items\"]:\n",
    "            uris.append(uri[\"track\"][\"uri\"])\n",
    "    return uris"
   ]
  },
  {
   "cell_type": "code",
   "execution_count": 8,
   "metadata": {},
   "outputs": [
    {
     "data": {
      "text/plain": [
       "2977"
      ]
     },
     "execution_count": 8,
     "metadata": {},
     "output_type": "execute_result"
    }
   ],
   "source": [
    "uris = get_uri()\n",
    "len(uris)"
   ]
  },
  {
   "cell_type": "code",
   "execution_count": 9,
   "metadata": {},
   "outputs": [],
   "source": [
    "def get_artist():\n",
    "    artists = []\n",
    "    for i in range(len(playlists)):\n",
    "        for artist in playlists[i][\"items\"]:\n",
    "            artists.append(artist[\"track\"][\"artists\"][0][\"name\"])\n",
    "    return artists    "
   ]
  },
  {
   "cell_type": "code",
   "execution_count": 10,
   "metadata": {},
   "outputs": [
    {
     "data": {
      "text/plain": [
       "2977"
      ]
     },
     "execution_count": 10,
     "metadata": {},
     "output_type": "execute_result"
    }
   ],
   "source": [
    "artists = get_artist()\n",
    "len(artists)"
   ]
  },
  {
   "cell_type": "code",
   "execution_count": 11,
   "metadata": {},
   "outputs": [],
   "source": [
    "def get_audio_feat():\n",
    "    audio_feat = []\n",
    "    for i in uris:\n",
    "        audio_feat.append(sp.audio_features(i))\n",
    "    return audio_feat    "
   ]
  },
  {
   "cell_type": "code",
   "execution_count": 12,
   "metadata": {},
   "outputs": [
    {
     "data": {
      "text/plain": [
       "2977"
      ]
     },
     "execution_count": 12,
     "metadata": {},
     "output_type": "execute_result"
    }
   ],
   "source": [
    "audio_feat = get_audio_feat()\n",
    "len(audio_feat)"
   ]
  },
  {
   "cell_type": "code",
   "execution_count": null,
   "metadata": {},
   "outputs": [],
   "source": [
    "# now i have: a list with song names, and a list with their audio features. Lets put them in a df"
   ]
  },
  {
   "cell_type": "code",
   "execution_count": 13,
   "metadata": {},
   "outputs": [],
   "source": [
    "def df_songs_features():\n",
    "    danceability = []\n",
    "    for song in audio_feat:\n",
    "        for i in song:\n",
    "            danceability.append(i[\"danceability\"])\n",
    "    loudness = []\n",
    "    for song in audio_feat:\n",
    "        for i in song:\n",
    "            loudness.append(i[\"loudness\"])\n",
    "    speechiness = []\n",
    "    for song in audio_feat:\n",
    "        for i in song:\n",
    "            speechiness.append(i[\"speechiness\"])\n",
    "    acousticness = []\n",
    "    for song in audio_feat:\n",
    "        for i in song:\n",
    "            acousticness.append(i[\"acousticness\"])\n",
    "    energy = []\n",
    "    for song in audio_feat:\n",
    "        for i in song:\n",
    "            energy.append(i[\"energy\"])\n",
    "    instrumentalness = []\n",
    "    for song in audio_feat:\n",
    "        for i in song:\n",
    "            instrumentalness.append(i[\"instrumentalness\"])\n",
    "    tempo = []\n",
    "    for song in audio_feat:\n",
    "        for i in song:\n",
    "            tempo.append(i[\"tempo\"])\n",
    "            \n",
    "    import pandas as pd\n",
    "\n",
    "    songs_features_dict = {\n",
    "        \"name_of_song\" : songs,\n",
    "        \"artist\": artists,\n",
    "        \"danceability\": danceability,\n",
    "        \"energy\": energy,\n",
    "        \"loudness\": loudness,\n",
    "        \"speechiness\": speechiness,\n",
    "        \"acousticness\": acousticness,\n",
    "        \"instrumentalness\": instrumentalness,\n",
    "        \"tempo\": tempo,\n",
    "        \"uri\": uris\n",
    "    }\n",
    "\n",
    "    songs_features = pd.DataFrame(songs_features_dict)\n",
    "    return songs_features    "
   ]
  },
  {
   "cell_type": "code",
   "execution_count": 14,
   "metadata": {},
   "outputs": [],
   "source": [
    "songs_features = df_songs_features()"
   ]
  },
  {
   "cell_type": "code",
   "execution_count": 15,
   "metadata": {},
   "outputs": [
    {
     "data": {
      "text/html": [
       "<div>\n",
       "<style scoped>\n",
       "    .dataframe tbody tr th:only-of-type {\n",
       "        vertical-align: middle;\n",
       "    }\n",
       "\n",
       "    .dataframe tbody tr th {\n",
       "        vertical-align: top;\n",
       "    }\n",
       "\n",
       "    .dataframe thead th {\n",
       "        text-align: right;\n",
       "    }\n",
       "</style>\n",
       "<table border=\"1\" class=\"dataframe\">\n",
       "  <thead>\n",
       "    <tr style=\"text-align: right;\">\n",
       "      <th></th>\n",
       "      <th>name_of_song</th>\n",
       "      <th>artist</th>\n",
       "      <th>danceability</th>\n",
       "      <th>energy</th>\n",
       "      <th>loudness</th>\n",
       "      <th>speechiness</th>\n",
       "      <th>acousticness</th>\n",
       "      <th>instrumentalness</th>\n",
       "      <th>tempo</th>\n",
       "      <th>uri</th>\n",
       "    </tr>\n",
       "  </thead>\n",
       "  <tbody>\n",
       "    <tr>\n",
       "      <td>0</td>\n",
       "      <td>Bring Me To Life</td>\n",
       "      <td>Evanescence</td>\n",
       "      <td>0.331</td>\n",
       "      <td>0.943</td>\n",
       "      <td>-3.188</td>\n",
       "      <td>0.0698</td>\n",
       "      <td>0.00721</td>\n",
       "      <td>0.000002</td>\n",
       "      <td>94.612</td>\n",
       "      <td>spotify:track:0COqiPhxzoWICwFCS4eZcp</td>\n",
       "    </tr>\n",
       "    <tr>\n",
       "      <td>1</td>\n",
       "      <td>Like The Way I Do</td>\n",
       "      <td>Melissa Etheridge</td>\n",
       "      <td>0.606</td>\n",
       "      <td>0.926</td>\n",
       "      <td>-7.428</td>\n",
       "      <td>0.0437</td>\n",
       "      <td>0.02640</td>\n",
       "      <td>0.000002</td>\n",
       "      <td>101.426</td>\n",
       "      <td>spotify:track:5cj6toDqMzkbpgkGoRav0S</td>\n",
       "    </tr>\n",
       "    <tr>\n",
       "      <td>2</td>\n",
       "      <td>The Chain - 2004 Remaster</td>\n",
       "      <td>Fleetwood Mac</td>\n",
       "      <td>0.545</td>\n",
       "      <td>0.670</td>\n",
       "      <td>-8.810</td>\n",
       "      <td>0.0496</td>\n",
       "      <td>0.00900</td>\n",
       "      <td>0.000822</td>\n",
       "      <td>151.553</td>\n",
       "      <td>spotify:track:5e9TFTbltYBg2xThimr0rU</td>\n",
       "    </tr>\n",
       "    <tr>\n",
       "      <td>3</td>\n",
       "      <td>Stars</td>\n",
       "      <td>Grace Potter &amp; The Nocturnals</td>\n",
       "      <td>0.432</td>\n",
       "      <td>0.496</td>\n",
       "      <td>-6.918</td>\n",
       "      <td>0.0274</td>\n",
       "      <td>0.18100</td>\n",
       "      <td>0.000783</td>\n",
       "      <td>140.262</td>\n",
       "      <td>spotify:track:6s7sq2Quh4TxHRfdk6eFxk</td>\n",
       "    </tr>\n",
       "    <tr>\n",
       "      <td>4</td>\n",
       "      <td>White Rabbit</td>\n",
       "      <td>Jefferson Airplane</td>\n",
       "      <td>0.551</td>\n",
       "      <td>0.293</td>\n",
       "      <td>-12.503</td>\n",
       "      <td>0.0272</td>\n",
       "      <td>0.48600</td>\n",
       "      <td>0.000273</td>\n",
       "      <td>106.798</td>\n",
       "      <td>spotify:track:4vpeKl0vMGdAXpZiQB2Dtd</td>\n",
       "    </tr>\n",
       "  </tbody>\n",
       "</table>\n",
       "</div>"
      ],
      "text/plain": [
       "                name_of_song                         artist  danceability  \\\n",
       "0           Bring Me To Life                    Evanescence         0.331   \n",
       "1          Like The Way I Do              Melissa Etheridge         0.606   \n",
       "2  The Chain - 2004 Remaster                  Fleetwood Mac         0.545   \n",
       "3                      Stars  Grace Potter & The Nocturnals         0.432   \n",
       "4               White Rabbit             Jefferson Airplane         0.551   \n",
       "\n",
       "   energy  loudness  speechiness  acousticness  instrumentalness    tempo  \\\n",
       "0   0.943    -3.188       0.0698       0.00721          0.000002   94.612   \n",
       "1   0.926    -7.428       0.0437       0.02640          0.000002  101.426   \n",
       "2   0.670    -8.810       0.0496       0.00900          0.000822  151.553   \n",
       "3   0.496    -6.918       0.0274       0.18100          0.000783  140.262   \n",
       "4   0.293   -12.503       0.0272       0.48600          0.000273  106.798   \n",
       "\n",
       "                                    uri  \n",
       "0  spotify:track:0COqiPhxzoWICwFCS4eZcp  \n",
       "1  spotify:track:5cj6toDqMzkbpgkGoRav0S  \n",
       "2  spotify:track:5e9TFTbltYBg2xThimr0rU  \n",
       "3  spotify:track:6s7sq2Quh4TxHRfdk6eFxk  \n",
       "4  spotify:track:4vpeKl0vMGdAXpZiQB2Dtd  "
      ]
     },
     "execution_count": 15,
     "metadata": {},
     "output_type": "execute_result"
    }
   ],
   "source": [
    "songs_features.head()"
   ]
  },
  {
   "cell_type": "markdown",
   "metadata": {},
   "source": [
    "Now, we will work on clustering the songs"
   ]
  },
  {
   "cell_type": "code",
   "execution_count": 16,
   "metadata": {},
   "outputs": [],
   "source": [
    "from sklearn.preprocessing import StandardScaler"
   ]
  },
  {
   "cell_type": "code",
   "execution_count": 17,
   "metadata": {},
   "outputs": [],
   "source": [
    "list_audio_feat = [\"danceability\", \"energy\", \"loudness\", \"speechiness\", \"acousticness\", \"instrumentalness\", \"tempo\"]\n",
    "X = songs_features[list_audio_feat]"
   ]
  },
  {
   "cell_type": "code",
   "execution_count": 18,
   "metadata": {},
   "outputs": [
    {
     "data": {
      "text/html": [
       "<div>\n",
       "<style scoped>\n",
       "    .dataframe tbody tr th:only-of-type {\n",
       "        vertical-align: middle;\n",
       "    }\n",
       "\n",
       "    .dataframe tbody tr th {\n",
       "        vertical-align: top;\n",
       "    }\n",
       "\n",
       "    .dataframe thead th {\n",
       "        text-align: right;\n",
       "    }\n",
       "</style>\n",
       "<table border=\"1\" class=\"dataframe\">\n",
       "  <thead>\n",
       "    <tr style=\"text-align: right;\">\n",
       "      <th></th>\n",
       "      <th>danceability</th>\n",
       "      <th>energy</th>\n",
       "      <th>loudness</th>\n",
       "      <th>speechiness</th>\n",
       "      <th>acousticness</th>\n",
       "      <th>instrumentalness</th>\n",
       "      <th>tempo</th>\n",
       "    </tr>\n",
       "  </thead>\n",
       "  <tbody>\n",
       "    <tr>\n",
       "      <td>0</td>\n",
       "      <td>0.331</td>\n",
       "      <td>0.943</td>\n",
       "      <td>-3.188</td>\n",
       "      <td>0.0698</td>\n",
       "      <td>0.00721</td>\n",
       "      <td>0.000002</td>\n",
       "      <td>94.612</td>\n",
       "    </tr>\n",
       "    <tr>\n",
       "      <td>1</td>\n",
       "      <td>0.606</td>\n",
       "      <td>0.926</td>\n",
       "      <td>-7.428</td>\n",
       "      <td>0.0437</td>\n",
       "      <td>0.02640</td>\n",
       "      <td>0.000002</td>\n",
       "      <td>101.426</td>\n",
       "    </tr>\n",
       "    <tr>\n",
       "      <td>2</td>\n",
       "      <td>0.545</td>\n",
       "      <td>0.670</td>\n",
       "      <td>-8.810</td>\n",
       "      <td>0.0496</td>\n",
       "      <td>0.00900</td>\n",
       "      <td>0.000822</td>\n",
       "      <td>151.553</td>\n",
       "    </tr>\n",
       "    <tr>\n",
       "      <td>3</td>\n",
       "      <td>0.432</td>\n",
       "      <td>0.496</td>\n",
       "      <td>-6.918</td>\n",
       "      <td>0.0274</td>\n",
       "      <td>0.18100</td>\n",
       "      <td>0.000783</td>\n",
       "      <td>140.262</td>\n",
       "    </tr>\n",
       "    <tr>\n",
       "      <td>4</td>\n",
       "      <td>0.551</td>\n",
       "      <td>0.293</td>\n",
       "      <td>-12.503</td>\n",
       "      <td>0.0272</td>\n",
       "      <td>0.48600</td>\n",
       "      <td>0.000273</td>\n",
       "      <td>106.798</td>\n",
       "    </tr>\n",
       "  </tbody>\n",
       "</table>\n",
       "</div>"
      ],
      "text/plain": [
       "   danceability  energy  loudness  speechiness  acousticness  \\\n",
       "0         0.331   0.943    -3.188       0.0698       0.00721   \n",
       "1         0.606   0.926    -7.428       0.0437       0.02640   \n",
       "2         0.545   0.670    -8.810       0.0496       0.00900   \n",
       "3         0.432   0.496    -6.918       0.0274       0.18100   \n",
       "4         0.551   0.293   -12.503       0.0272       0.48600   \n",
       "\n",
       "   instrumentalness    tempo  \n",
       "0          0.000002   94.612  \n",
       "1          0.000002  101.426  \n",
       "2          0.000822  151.553  \n",
       "3          0.000783  140.262  \n",
       "4          0.000273  106.798  "
      ]
     },
     "execution_count": 18,
     "metadata": {},
     "output_type": "execute_result"
    }
   ],
   "source": [
    "X.head()"
   ]
  },
  {
   "cell_type": "code",
   "execution_count": null,
   "metadata": {},
   "outputs": [],
   "source": [
    "X.describe()"
   ]
  },
  {
   "cell_type": "code",
   "execution_count": 19,
   "metadata": {},
   "outputs": [],
   "source": [
    "scaler = StandardScaler()"
   ]
  },
  {
   "cell_type": "code",
   "execution_count": 20,
   "metadata": {},
   "outputs": [],
   "source": [
    "X_scaled = scaler.fit_transform(X)"
   ]
  },
  {
   "cell_type": "code",
   "execution_count": 21,
   "metadata": {},
   "outputs": [
    {
     "data": {
      "text/plain": [
       "array([[-1.69993753,  1.71514086,  1.37586362, ..., -0.98105468,\n",
       "        -0.21371423, -0.88248963],\n",
       "       [ 0.05771423,  1.63385885,  0.01121345, ..., -0.91771593,\n",
       "        -0.21371696, -0.64786768],\n",
       "       [-0.33216489,  0.40984739, -0.43358526, ..., -0.97514658,\n",
       "        -0.2067262 ,  1.07812213],\n",
       "       ...,\n",
       "       [ 0.09606299,  1.80120417,  1.41126728, ..., -0.6516866 ,\n",
       "        -0.2133764 ,  0.33162904],\n",
       "       [ 0.07049715,  0.84016392,  0.51877319, ..., -0.9622742 ,\n",
       "        -0.21373179,  1.65169602],\n",
       "       [ 0.99086752, -0.67072524, -0.11784899, ...,  1.60923264,\n",
       "        -0.21373179, -0.42095857]])"
      ]
     },
     "execution_count": 21,
     "metadata": {},
     "output_type": "execute_result"
    }
   ],
   "source": [
    "# now I have an array of the features of each song, fitted and transformed, meaning they had been changed according to mean and std deviation\n",
    "X_scaled"
   ]
  },
  {
   "cell_type": "code",
   "execution_count": 22,
   "metadata": {},
   "outputs": [],
   "source": [
    "#we use Kmeans to cluster\n",
    "from sklearn.cluster import KMeans"
   ]
  },
  {
   "cell_type": "code",
   "execution_count": 23,
   "metadata": {},
   "outputs": [],
   "source": [
    "#initializing\n",
    "my_kmeans = KMeans(random_state=1234)"
   ]
  },
  {
   "cell_type": "code",
   "execution_count": 24,
   "metadata": {},
   "outputs": [
    {
     "data": {
      "text/plain": [
       "KMeans(algorithm='auto', copy_x=True, init='k-means++', max_iter=300,\n",
       "       n_clusters=8, n_init=10, n_jobs=None, precompute_distances='auto',\n",
       "       random_state=1234, tol=0.0001, verbose=0)"
      ]
     },
     "execution_count": 24,
     "metadata": {},
     "output_type": "execute_result"
    }
   ],
   "source": [
    "#store information from my model inside this kmeans\n",
    "my_kmeans.fit(X_scaled)\n",
    "#these are the default parameters used:"
   ]
  },
  {
   "cell_type": "code",
   "execution_count": 25,
   "metadata": {},
   "outputs": [
    {
     "data": {
      "text/plain": [
       "array([0, 4, 1, ..., 7, 7, 3])"
      ]
     },
     "execution_count": 25,
     "metadata": {},
     "output_type": "execute_result"
    }
   ],
   "source": [
    "# Predicting the clusters. It will gives us an array of clusters:\n",
    "clusters = my_kmeans.predict(X_scaled)\n",
    "clusters"
   ]
  },
  {
   "cell_type": "code",
   "execution_count": 26,
   "metadata": {},
   "outputs": [],
   "source": [
    "import pandas as pd"
   ]
  },
  {
   "cell_type": "code",
   "execution_count": 27,
   "metadata": {},
   "outputs": [
    {
     "data": {
      "text/plain": [
       "0       0\n",
       "1       4\n",
       "2       1\n",
       "3       1\n",
       "4       2\n",
       "       ..\n",
       "2972    0\n",
       "2973    7\n",
       "2974    7\n",
       "2975    7\n",
       "2976    3\n",
       "Length: 2977, dtype: int32"
      ]
     },
     "execution_count": 27,
     "metadata": {},
     "output_type": "execute_result"
    }
   ],
   "source": [
    "#I want to analyze and explore them in a DF because it is easier\n",
    "clusters = pd.Series(clusters)\n",
    "clusters"
   ]
  },
  {
   "cell_type": "code",
   "execution_count": 28,
   "metadata": {},
   "outputs": [
    {
     "data": {
      "text/plain": [
       "5     76\n",
       "7    274\n",
       "2    308\n",
       "6    360\n",
       "1    404\n",
       "0    429\n",
       "3    443\n",
       "4    683\n",
       "dtype: int64"
      ]
     },
     "execution_count": 28,
     "metadata": {},
     "output_type": "execute_result"
    }
   ],
   "source": [
    "clusters.value_counts().sort_values()"
   ]
  },
  {
   "cell_type": "code",
   "execution_count": 30,
   "metadata": {},
   "outputs": [
    {
     "name": "stderr",
     "output_type": "stream",
     "text": [
      "C:\\Users\\Mariana\\Anaconda3\\lib\\site-packages\\ipykernel_launcher.py:2: SettingWithCopyWarning: \n",
      "A value is trying to be set on a copy of a slice from a DataFrame.\n",
      "Try using .loc[row_indexer,col_indexer] = value instead\n",
      "\n",
      "See the caveats in the documentation: http://pandas.pydata.org/pandas-docs/stable/user_guide/indexing.html#returning-a-view-versus-a-copy\n",
      "  \n"
     ]
    }
   ],
   "source": [
    "# I will add a column in my audio features (X) dataframe telling me in which cluster each song belongs\n",
    "X[\"cluster\"] = clusters"
   ]
  },
  {
   "cell_type": "code",
   "execution_count": 31,
   "metadata": {},
   "outputs": [
    {
     "data": {
      "text/html": [
       "<div>\n",
       "<style scoped>\n",
       "    .dataframe tbody tr th:only-of-type {\n",
       "        vertical-align: middle;\n",
       "    }\n",
       "\n",
       "    .dataframe tbody tr th {\n",
       "        vertical-align: top;\n",
       "    }\n",
       "\n",
       "    .dataframe thead th {\n",
       "        text-align: right;\n",
       "    }\n",
       "</style>\n",
       "<table border=\"1\" class=\"dataframe\">\n",
       "  <thead>\n",
       "    <tr style=\"text-align: right;\">\n",
       "      <th></th>\n",
       "      <th>danceability</th>\n",
       "      <th>energy</th>\n",
       "      <th>loudness</th>\n",
       "      <th>speechiness</th>\n",
       "      <th>acousticness</th>\n",
       "      <th>instrumentalness</th>\n",
       "      <th>tempo</th>\n",
       "      <th>cluster</th>\n",
       "    </tr>\n",
       "  </thead>\n",
       "  <tbody>\n",
       "    <tr>\n",
       "      <td>0</td>\n",
       "      <td>0.331</td>\n",
       "      <td>0.943</td>\n",
       "      <td>-3.188</td>\n",
       "      <td>0.0698</td>\n",
       "      <td>0.00721</td>\n",
       "      <td>0.000002</td>\n",
       "      <td>94.612</td>\n",
       "      <td>0</td>\n",
       "    </tr>\n",
       "    <tr>\n",
       "      <td>1</td>\n",
       "      <td>0.606</td>\n",
       "      <td>0.926</td>\n",
       "      <td>-7.428</td>\n",
       "      <td>0.0437</td>\n",
       "      <td>0.02640</td>\n",
       "      <td>0.000002</td>\n",
       "      <td>101.426</td>\n",
       "      <td>4</td>\n",
       "    </tr>\n",
       "    <tr>\n",
       "      <td>2</td>\n",
       "      <td>0.545</td>\n",
       "      <td>0.670</td>\n",
       "      <td>-8.810</td>\n",
       "      <td>0.0496</td>\n",
       "      <td>0.00900</td>\n",
       "      <td>0.000822</td>\n",
       "      <td>151.553</td>\n",
       "      <td>1</td>\n",
       "    </tr>\n",
       "    <tr>\n",
       "      <td>3</td>\n",
       "      <td>0.432</td>\n",
       "      <td>0.496</td>\n",
       "      <td>-6.918</td>\n",
       "      <td>0.0274</td>\n",
       "      <td>0.18100</td>\n",
       "      <td>0.000783</td>\n",
       "      <td>140.262</td>\n",
       "      <td>1</td>\n",
       "    </tr>\n",
       "    <tr>\n",
       "      <td>4</td>\n",
       "      <td>0.551</td>\n",
       "      <td>0.293</td>\n",
       "      <td>-12.503</td>\n",
       "      <td>0.0272</td>\n",
       "      <td>0.48600</td>\n",
       "      <td>0.000273</td>\n",
       "      <td>106.798</td>\n",
       "      <td>2</td>\n",
       "    </tr>\n",
       "  </tbody>\n",
       "</table>\n",
       "</div>"
      ],
      "text/plain": [
       "   danceability  energy  loudness  speechiness  acousticness  \\\n",
       "0         0.331   0.943    -3.188       0.0698       0.00721   \n",
       "1         0.606   0.926    -7.428       0.0437       0.02640   \n",
       "2         0.545   0.670    -8.810       0.0496       0.00900   \n",
       "3         0.432   0.496    -6.918       0.0274       0.18100   \n",
       "4         0.551   0.293   -12.503       0.0272       0.48600   \n",
       "\n",
       "   instrumentalness    tempo  cluster  \n",
       "0          0.000002   94.612        0  \n",
       "1          0.000002  101.426        4  \n",
       "2          0.000822  151.553        1  \n",
       "3          0.000783  140.262        1  \n",
       "4          0.000273  106.798        2  "
      ]
     },
     "execution_count": 31,
     "metadata": {},
     "output_type": "execute_result"
    }
   ],
   "source": [
    "X.head()"
   ]
  },
  {
   "cell_type": "code",
   "execution_count": null,
   "metadata": {},
   "outputs": [],
   "source": [
    "## ideally we explore clusters, but let's move on for now.\n",
    "## let's work with getting a song from user, requestiong its audio features to spotify, and assigning it to a cluster\n",
    "# def song_to_lookfor():\n",
    "    #user_input = input(\"Tell me the name of a song you like, I'll give you a suggestion you might like: \")\n",
    "    #input_song = user_input\n",
    "    #result = sp.search(input_song)\n",
    "    #song_uri = result[\"tracks\"][\"items\"][0][\"uri\"]\n",
    "    #return song_uri\n",
    "    "
   ]
  },
  {
   "cell_type": "code",
   "execution_count": null,
   "metadata": {},
   "outputs": [],
   "source": [
    "## I extract the URI, because that is what I'll use to get the audio features\n",
    "#def extract_uri():\n",
    "    #song_uri = result[\"tracks\"][\"items\"][0][\"uri\"]\n",
    "    #return song_uri"
   ]
  },
  {
   "cell_type": "markdown",
   "metadata": {},
   "source": [
    "song_uri = extract_uri()"
   ]
  },
  {
   "cell_type": "code",
   "execution_count": 32,
   "metadata": {},
   "outputs": [],
   "source": [
    "## let's work with getting a song from user, requestiong its audio features to spotify, and assigning it to a cluster\n",
    "\n",
    "def get_uris(song_name):\n",
    "    result = sp.search(song_name)\n",
    "    song_uri = result[\"tracks\"][\"items\"][0][\"uri\"]\n",
    "    return song_uri"
   ]
  },
  {
   "cell_type": "code",
   "execution_count": 45,
   "metadata": {},
   "outputs": [],
   "source": [
    "## Now I get the audio features from that song and make it a df\n",
    "def extract_af(song_uri):\n",
    "    song_af = sp.audio_features(song_uri)\n",
    "    song_af_dict = song_af[0]\n",
    "    song_df = pd.DataFrame(song_af_dict,index=[0])\n",
    "    song_df.drop(columns=[\"key\", \"mode\", \"liveness\", \"valence\", \"type\", \"id\", \"uri\", \"track_href\", \"analysis_url\", \"duration_ms\", \"time_signature\"], inplace=True)\n",
    "    return song_df"
   ]
  },
  {
   "cell_type": "markdown",
   "metadata": {},
   "source": [
    "extract_af()"
   ]
  },
  {
   "cell_type": "code",
   "execution_count": 56,
   "metadata": {},
   "outputs": [],
   "source": [
    "# Scale (fit and transform), and predict!\n",
    "def assign_cluster(song_features):\n",
    "    song_df_scaled = scaler.transform(song_features)\n",
    "    song_features = pd.DataFrame(song_df_scaled)\n",
    "    song_features[\"cluster\"] = my_kmeans.predict(song_df_scaled)\n",
    "    return song_features"
   ]
  },
  {
   "cell_type": "code",
   "execution_count": 35,
   "metadata": {},
   "outputs": [
    {
     "data": {
      "text/plain": [
       "2977"
      ]
     },
     "execution_count": 35,
     "metadata": {},
     "output_type": "execute_result"
    }
   ],
   "source": [
    "len(X[\"tempo\"])"
   ]
  },
  {
   "cell_type": "code",
   "execution_count": 36,
   "metadata": {},
   "outputs": [
    {
     "data": {
      "text/plain": [
       "2977"
      ]
     },
     "execution_count": 36,
     "metadata": {},
     "output_type": "execute_result"
    }
   ],
   "source": [
    "len(songs)"
   ]
  },
  {
   "cell_type": "code",
   "execution_count": 52,
   "metadata": {},
   "outputs": [],
   "source": [
    "X[\"name_of_song\"] = songs\n",
    "X[\"artist\"] = artists"
   ]
  },
  {
   "cell_type": "code",
   "execution_count": 53,
   "metadata": {},
   "outputs": [],
   "source": [
    "def recommendation(song_features_and_cluster):\n",
    "    cluster_to_lookfor = song_features_and_cluster[\"cluster\"][0]\n",
    "    same_cluster_df = X.loc[X['cluster'] == cluster_to_lookfor]\n",
    "    choice = same_cluster_df.sample()\n",
    "    return \"Try listening to \" + choice.iloc[0,8] + \", by \" + choice.iloc[0,9]"
   ]
  },
  {
   "cell_type": "markdown",
   "metadata": {},
   "source": [
    "## Joining everything"
   ]
  },
  {
   "cell_type": "code",
   "execution_count": 40,
   "metadata": {},
   "outputs": [],
   "source": [
    "import requests\n",
    "from bs4 import BeautifulSoup"
   ]
  },
  {
   "cell_type": "code",
   "execution_count": 41,
   "metadata": {},
   "outputs": [],
   "source": [
    "url = \"https://www.billboard.com/charts/hot-100\"\n",
    "billboard = requests.get(url)\n",
    "soup = BeautifulSoup(billboard.content, \"html.parser\")"
   ]
  },
  {
   "cell_type": "code",
   "execution_count": 42,
   "metadata": {},
   "outputs": [],
   "source": [
    "songs_billboard = soup.select(\"span.chart-element__information__song.text--truncate.color--primary\")\n",
    "songs_top100 = []\n",
    "\n",
    "for s in songs_billboard:\n",
    "    songs_top100.append(s.get_text())"
   ]
  },
  {
   "cell_type": "code",
   "execution_count": 57,
   "metadata": {},
   "outputs": [],
   "source": [
    "import random\n",
    "\n",
    "def song_recommender():\n",
    "    user_input = input(\"Tell me the name of a song you like, and I'll give you a suggestion you might enjoy: \")\n",
    "    if user_input in songs_top100:\n",
    "        return \"You like trendy songs! I'll give you another one: \" + random.choice(songs_top100)\n",
    "    else:\n",
    "        uri = get_uris(user_input)\n",
    "        features = extract_af(song_uri=uri)\n",
    "        features_and_cluster = assign_cluster(song_features=features)\n",
    "        return recommendation(song_features_and_cluster=features_and_cluster)\n",
    "\n",
    "        "
   ]
  },
  {
   "cell_type": "markdown",
   "metadata": {},
   "source": [
    "**Let's have a preview of how it works!**"
   ]
  },
  {
   "cell_type": "code",
   "execution_count": 58,
   "metadata": {},
   "outputs": [
    {
     "name": "stdout",
     "output_type": "stream",
     "text": [
      "Tell me the name of a song you like, and I'll give you a suggestion you might enjoy: breakaway\n"
     ]
    },
    {
     "data": {
      "text/plain": [
       "'Try listening to Weak, by SWV'"
      ]
     },
     "execution_count": 58,
     "metadata": {},
     "output_type": "execute_result"
    }
   ],
   "source": [
    "song_recommender()"
   ]
  },
  {
   "cell_type": "code",
   "execution_count": null,
   "metadata": {},
   "outputs": [],
   "source": []
  },
  {
   "cell_type": "code",
   "execution_count": null,
   "metadata": {},
   "outputs": [],
   "source": []
  },
  {
   "cell_type": "code",
   "execution_count": null,
   "metadata": {},
   "outputs": [],
   "source": []
  },
  {
   "cell_type": "raw",
   "metadata": {},
   "source": []
  }
 ],
 "metadata": {
  "kernelspec": {
   "display_name": "Python 3",
   "language": "python",
   "name": "python3"
  },
  "language_info": {
   "codemirror_mode": {
    "name": "ipython",
    "version": 3
   },
   "file_extension": ".py",
   "mimetype": "text/x-python",
   "name": "python",
   "nbconvert_exporter": "python",
   "pygments_lexer": "ipython3",
   "version": "3.7.4"
  },
  "toc": {
   "base_numbering": 1,
   "nav_menu": {},
   "number_sections": true,
   "sideBar": true,
   "skip_h1_title": false,
   "title_cell": "Table of Contents",
   "title_sidebar": "Contents",
   "toc_cell": false,
   "toc_position": {},
   "toc_section_display": true,
   "toc_window_display": false
  },
  "varInspector": {
   "cols": {
    "lenName": 16,
    "lenType": 16,
    "lenVar": 40
   },
   "kernels_config": {
    "python": {
     "delete_cmd_postfix": "",
     "delete_cmd_prefix": "del ",
     "library": "var_list.py",
     "varRefreshCmd": "print(var_dic_list())"
    },
    "r": {
     "delete_cmd_postfix": ") ",
     "delete_cmd_prefix": "rm(",
     "library": "var_list.r",
     "varRefreshCmd": "cat(var_dic_list()) "
    }
   },
   "types_to_exclude": [
    "module",
    "function",
    "builtin_function_or_method",
    "instance",
    "_Feature"
   ],
   "window_display": false
  }
 },
 "nbformat": 4,
 "nbformat_minor": 2
}
