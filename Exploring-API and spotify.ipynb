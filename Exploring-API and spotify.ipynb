{
 "cells": [
  {
   "cell_type": "markdown",
   "metadata": {},
   "source": [
    "Here we will explore collecting songs from spotify APIs and how to ask for what we want, that is:\n",
    "- Once the user inputs a song, we will ask spotify for the features of the song\n",
    "- Then we will match with another song with similar features, and recommend it to the user\n",
    "The steps are:\n",
    "- Find playlists in spotify with lots of songs\n",
    "- Create a list with them\n",
    "- Extract name of songa and audio features from each one\n",
    "- Create a DF\n",
    "\n",
    "Then:\n",
    "- Cluster songs according to audio features"
   ]
  },
  {
   "cell_type": "markdown",
   "metadata": {},
   "source": [
    "In this notebook I will work with playlists containing female artists only."
   ]
  },
  {
   "cell_type": "code",
   "execution_count": 1,
   "metadata": {},
   "outputs": [],
   "source": [
    "import spotipy # install if needed\n",
    "from spotipy.oauth2 import SpotifyClientCredentials"
   ]
  },
  {
   "cell_type": "code",
   "execution_count": 2,
   "metadata": {},
   "outputs": [],
   "source": [
    "#Initialize SpotiPy with user credentias\n",
    "sp = spotipy.Spotify(auth_manager=SpotifyClientCredentials(\n",
    "    client_id=\"6582a8f807004727b3bc8a7c281ae02c\",\n",
    "    client_secret=\"c38fc3efa7f74def856cb96d000fd6ea\"))"
   ]
  },
  {
   "cell_type": "code",
   "execution_count": 26,
   "metadata": {},
   "outputs": [],
   "source": [
    "#create a list of playlists url's:\n",
    "\n",
    "list_url = [\"https://open.spotify.com/playlist/13qezNPeoOZbnpgYdvfXzw\", \"https://open.spotify.com/playlist/7vse1mpYM4ZZMAnFjtDmxn\", \"https://open.spotify.com/playlist/5BrB90Tlv372JYksHKEUUC\", \"https://open.spotify.com/playlist/4gGVp5hZBGMT5u8Umwy71i\", \"https://open.spotify.com/playlist/69IzgRxJudWrroRkFz6rqD\", \"https://open.spotify.com/playlist/7Bz2d7LtQAA4sdqjK54ihN\", \"https://open.spotify.com/playlist/3jN4ozUr5QnxLJAuWSOz8L\", \"https://open.spotify.com/playlist/7nb8QoKz6X7j43a8JLDWWa\", \"https://open.spotify.com/playlist/0Elk90H3u3Pii6HmU7uwDQ\", \"https://open.spotify.com/playlist/5jL36juHp2hI5p4w7Otkp8\", \"https://open.spotify.com/playlist/1FNxkddOTy0dEQjzO605Mu\", \"https://open.spotify.com/playlist/71AoD5gr7igctQEioLcrgs\", \"https://open.spotify.com/playlist/28PCyERc69PVABnVlhzCzK\", \"https://open.spotify.com/playlist/1AHXVPpZj0ttq2kEHfRrBz\", \"https://open.spotify.com/playlist/7GQpGQ7mo1qNgjRYzTIROw\", \"https://open.spotify.com/playlist/1n6ApCcBNm1LlObavhViZV\", \"https://open.spotify.com/playlist/52p0TeTGoMt2bdYaCgDgGi\", \"https://open.spotify.com/playlist/1vs8WUfA0QQO4V0rtVpFKX\"]\n"
   ]
  },
  {
   "cell_type": "markdown",
   "metadata": {},
   "source": [
    "doesn't have the \"next\"\n",
    "(delete afterwards)\n",
    "\n",
    "playlists = []\n",
    "for i in list_url:\n",
    "    playlists.append(sp.user_playlist_tracks(\"spotify\", i))\n",
    "print(len(playlists))"
   ]
  },
  {
   "cell_type": "code",
   "execution_count": 28,
   "metadata": {},
   "outputs": [
    {
     "name": "stdout",
     "output_type": "stream",
     "text": [
      "37\n"
     ]
    }
   ],
   "source": [
    "#with \"next\"\n",
    "playlists = []\n",
    "for i in list_url:\n",
    "    track = sp.user_playlist_tracks(\"spotify\", i)\n",
    "    playlists.append(track)\n",
    "    while track['next']:\n",
    "        track = sp.next(track)\n",
    "        playlists.append(track) \n",
    "print(len(playlists))\n"
   ]
  },
  {
   "cell_type": "code",
   "execution_count": 29,
   "metadata": {},
   "outputs": [
    {
     "data": {
      "text/plain": [
       "100"
      ]
     },
     "execution_count": 29,
     "metadata": {},
     "output_type": "execute_result"
    }
   ],
   "source": [
    "len(playlists[0][\"items\"])"
   ]
  },
  {
   "cell_type": "code",
   "execution_count": 75,
   "metadata": {},
   "outputs": [
    {
     "data": {
      "text/plain": [
       "dict_keys(['href', 'items', 'limit', 'next', 'offset', 'previous', 'total'])"
      ]
     },
     "execution_count": 75,
     "metadata": {},
     "output_type": "execute_result"
    }
   ],
   "source": [
    "playlists[0].keys()"
   ]
  },
  {
   "cell_type": "code",
   "execution_count": 78,
   "metadata": {},
   "outputs": [
    {
     "data": {
      "text/plain": [
       "dict_keys(['added_at', 'added_by', 'is_local', 'primary_color', 'track', 'video_thumbnail'])"
      ]
     },
     "execution_count": 78,
     "metadata": {},
     "output_type": "execute_result"
    }
   ],
   "source": [
    "playlists[0]['items'][0].keys()"
   ]
  },
  {
   "cell_type": "code",
   "execution_count": 114,
   "metadata": {},
   "outputs": [
    {
     "data": {
      "text/plain": [
       "'Evanescence'"
      ]
     },
     "execution_count": 114,
     "metadata": {},
     "output_type": "execute_result"
    }
   ],
   "source": [
    "playlists[0]['items'][0]['track']['artists'][0][\"name\"]"
   ]
  },
  {
   "cell_type": "code",
   "execution_count": 30,
   "metadata": {
    "scrolled": true
   },
   "outputs": [
    {
     "name": "stdout",
     "output_type": "stream",
     "text": [
      "['Bring Me To Life', 'Like The Way I Do', 'The Chain - 2004 Remaster', 'Stars', 'White Rabbit', 'Total Eclipse of the Heart', \"Your Daddy Don't Know\", 'What About Love?', 'You Keep Me Hangin On', 'Time After Time', 'Call Me', \"Don't Speak\", \"What's Up?\", 'Crimson and Clover', 'Back on the Chain Gang - 2007 Remaster', 'Love Is A Battlefield', 'Celebrity Skin', 'Whatcha Do to My Body', 'Tell It to My Heart', 'Running Up That Hill (A Deal With God) - 2018 Remaster', 'Complicated', \"Don't It Make Ya Feel\", 'Close My Eyes Forever', 'High School Confidential', 'The Ballad Of Lucy Jordan', 'Big Yellow Taxi', 'Blackbird', 'Ironic - 2015 Remaster', 'What I Am', 'Me and Bobby McGee', 'I Just Want to Make Love to You', 'Something To Talk About', 'Barracuda', 'Edge of Seventeen - 2016 Remaster', \"Call Me When You're Sober\", 'A Whiter Shade of Pale', 'Luka', 'We Belong', 'Bette Davis Eyes', 'Fast Car', 'All I Wanna Do', 'Stupid Girl', 'Brass in Pocket - 2006 Remaster', 'Love Is', '99 Luftballons', 'Queen Of Hearts', 'Suffocated', 'Because the Night', \"What's Love Got to Do with It - 2015 Remaster\", \"You're No Good\", \"You're so Vain\", \"Stumblin' In - 2017 Remaster\", 'Crazy On You', 'Alone', 'Come To My Window', 'I Hate Myself for Loving You', 'Kiss Me Deadly', 'If It Makes You Happy', 'Give Me One Reason', 'Bitch', 'Hell Is For Children', 'Torn', 'You Learn - 2015 Remaster', 'Nothing Compares 2 U', 'Just A Girl', \"Why Can't I?\", \"Stop Draggin' My Heart Around (with Tom Petty and The Heartbreakers) - 2016 Remaster\", 'Zombie', 'Black Mamba', 'Keep Moving (Basement Recording)', 'Silent Symphony', 'I Touch Myself', 'All I Wanna Do Is Make Love To You', 'I Want To Come Over', 'If I Could Turn Back Time', 'Joey', 'Here Comes the Rain Again - Remastered Version', 'Hit Me With Your Best Shot', \"The Emperor's New Clothes\", 'The Only Exception', 'Heaven Knows', 'Little Drummer Boy', 'Stupid Girl', 'Our Lips Are Sealed - Single Version', 'Hazy Shade of Winter', 'Open Your Heart', 'All Through the Night', 'Beast of Burden', 'Insensitive', 'The Warrior (feat. Patty Smyth)', 'Who Will You Run To', 'Like a Prayer', 'Age of Reason', 'Destroyer', 'Harden My Heart', 'Linger', 'How Can I Be Sure', 'Heed (A Call For Unity)', 'She Bop', 'One Way Or Another - Remastered', 'Diamond Dreams', 'Insane', \"Don't Get Me Wrong - 2007 Remaster\", 'Only The Lonely - Remastered 1999', 'Talk to Me', \"I'm The Only One\", 'These Dreams', 'Shadows and Lies', 'I Need A Lover', 'Have You Ever Seen the Rain?', 'Better Be Good to Me - 2015 Remaster', 'Promises In The Dark', 'Stand Back', 'Lantern', 'Everyday Is A Winding Road', 'Would I Lie to You? - Remastered Version', 'Party In The U.S.A.', 'Lithium', 'Eugene', 'Monster - Transformers Soundtrack Version', 'Because the Night - Live Unplugged', 'Never', 'Heartbreaker', 'Cherry-coloured Funk', 'Down By The Water', 'When You Get To Asheville', 'Cherokee', 'No More Drama', 'Welcome to the Real World', 'On & On', 'Time After Time', 'Light Years Away', 'Ten Cent Wings', '1234', 'Royals', 'Into the Night', 'Work It', 'Everything Is Everything', 'I Try', 'Fool of Me', 'Laughing With', 'Physical', 'Hit Me With Your Best Shot - 1999 Digital Remaster', 'The Glamorous Life', 'Respect', \"Chuck E's in Love\", 'Me and Bobby McGee', 'Sweet Ones', 'Polaroids', 'I Am Stretched On Your Grave', 'Hang With Me - Acoustic', 'Hard Lesson', 'I Love It (feat. Charli XCX)', 'Boom Clap', 'Summertime', 'Gabriel', 'Central Reservation - Original Version', 'Army of Me', 'Cameron', 'I Am Light', 'Skyscraper', 'Skinny Love', 'When We Were Young', 'Back To Black', 'Try', 'Wrecking Ball', 'Bones', 'Ghost', 'Unraveling', 'Save My Life', 'Gravity', 'Breathe Me', 'Superwoman', 'Apologies', 'Let Him Fly', 'Ashes And Wine', 'Rise Up', 'Cameo Lover', 'Peace Sign', 'The Eye', 'California', 'Together Again', 'Crucify', 'Supernova', 'Criminal', 'Fast Car', 'Vogue', 'Waterfalls', 'Walking on Broken Glass', 'I Do', \"I Don't Want to Wait\", 'Gasoline', 'On My Mind', 'Here', 'Sound & Color', 'little bit of red', \"I Can't Make You Love Me\", 'Leave Your Mark', 'The Wire', 'Walking with a Ghost', 'Just One of the Guys', 'I Want Tears', 'Dog Days Are Over', 'Hide and Seek', \"You're so Vain\", 'Rhiannon - Live 2005', 'At Last', 'This Will Be (An Everlasting Love)', 'Dear Future Husband', 'Domino', 'Three Packs a Day', 'Primetime (feat. Miguel)', 'Both Hands', 'This Train is Bound for Glory', 'Closer to Fine', 'Adia', 'Carnival', 'Constant Craving', 'Do It', 'Chocolate. (ft. Ari Lennox)', 'BELIEVE IT', 'Pretty Ugly', 'BMO', \"I Can't Breathe\", 'Ass Like That', 'Slow Down (with H.E.R.)', \"Don't Waste My Time (feat. Ella Mai)\", 'Triggered (freestyle)', 'What You Did (feat. Ella Mai)', 'Wasteland', 'Wrong Places (from Songland)', 'Forfeit. (ft. Lucky Daye)', 'Second Chances. (ft. 6LACK)', 'COFFEE', 'F&MU', 'Get Me (feat. Kehlani)', 'Comfortable', 'Easy - Remix', 'Leave Em Alone', 'Forgive Me', 'Nights Like This (feat. Ty Dolla $ign)', 'Good Thing (with Kehlani)', 'All Me (feat. Keyshia Cole)', 'Change Your Life (feat. Jhené Aiko)', 'Slide', 'EX', 'Can I', 'Happiness Over Everything (H.O.E.) (feat. Future & Miguel)', 'Mad At Me.', 'Moment', 'Hungry Hippo', 'Only Child', \"Could've Been (feat. Bryson Tiller)\", 'Savage Remix (feat. Beyoncé)', 'You Know Wassup', 'None Of Your Concern (feat. Big Sean)', 'Cancelled.', 'Serial Lover', 'Morning', 'Easy Breezy', 'Grateful', 'Sex With Me', 'Motivation', 'Windows (feat. Quavo & Tyga)', 'Tia Tamera (feat. Rico Nasty)', 'Twerk (feat. Cardi B)', 'ICY GRL', 'Cash Shit (feat. DaBaby)', 'Formation', 'Level Up', 'Juicy', 'Go To Town', 'MOOO!', 'Truth Hurts', 'Juice', 'Ridin Round', 'After The Storm (feat. Tyler, The Creator & Bootsy Collins)', 'Know Myself', 'In My Feelings', \"Boo'd Up\", \"She Don't (feat. Ty Dolla $Ign)\", '24/7 (feat. Ella Mai)', 'Shot Clock', 'Whatchamacallit (feat. Chris Brown)', 'Anymore', 'Be Honest (feat. Burna Boy)', 'Gone Away', 'Stretch You Out (feat. A Boogie Wit da Hoodie)', 'Pack Lite', 'Pick Up Your Feelings', 'Me Myself I', 'All I Wanna Do', 'If It Makes You Happy', 'Everyday Is A Winding Road', 'My Favorite Mistake', \"Sweet Child O'Mine\", 'My Favorite Mistake - Live At Central Park', 'If It Makes You Happy', 'Torn', \"Tom's Diner (feat. Suzanne Vega)\", 'Sleeping Satellite', 'Damn I Wish I Was Your Lover - Radio Version', 'Love And Affection', 'Drop The Pilot', 'Down To Zero - Old Grey Whistle Test 1976', \"I'm Every Woman\", 'Young Hearts Run Free', \"Love's Unkind\", \"If I Can't Have You\", 'I Will Survive', \"It's in His Kiss\", 'Because the Night', 'Midnight at the Oasis', 'Both Sides Now', 'Ruby Tuesday', 'I Will Always Love You', 'You Needed Me', \"We're All Alone\", 'Me and Bobby McGee', 'Misty Blue', 'Band of Gold', 'Rose Garden - Single Version', 'Right Back Where We Started From - Digital Remaster', \"You're Moving out Today\", 'Angie Baby', \"Don't Cry for Me Argentina\", 'If I Could Turn Back Time', 'Black Velvet', 'You Came', 'Bette Davis Eyes', \"I Think We're Alone Now\", 'Pull Up To The Bumper', 'Walking On Sunshine', \"Ain't Nothin' Goin' On But The Rent\", 'I Say a Little Prayer', 'Clean Up Woman', \"One Day I'll Fly Away\", 'That Ole Devil Called Love', 'New York - Radio Edit', 'True Colors', 'Marlene On The Wall', 'Mad About The Boy', 'Yesterday', 'My One Temptation - Edit', 'Crazy - Single Version', 'Stop - Edit', 'Show Me Heaven - From \"Days Of Thunder\"', 'Up Where We Belong', 'Get Here', \"Fool If You Think It's Over\", \"There's A Guy Works Down The Chip Shop Swears He's Elvis\", \"Don't Leave Me This Way - Single Version\", 'Your Kiss Is Sweet', 'It Should Have Been Me', \"Don't Cry Out Loud\", 'Stay', 'From A Distance', 'Hot Stuff - 12\" Version', \"Flashdance... What A Feeling - '95 Version\", \"The Shoop Shoop Song (It's In His Kiss)\", 'The Ballad Of Lucy Jordan', 'Eighth Day', 'Mockingbird', \"Haven't Got Time for the Pain\", \"That's The Way I've Always Heard It Should Be\", 'Coming Around Again', 'We Have No Secrets - 2015 Remaster', \"You're so Vain - 2015 Remaster\", 'The Right Thing to Do - 2015 Remaster', \"It's All Over Now Baby Blue\", 'As Tears Go By', 'Come And Stay With Me', 'No More The Fool', 'Sunshine After The Rain', 'Woman', \"What A Diff'rence A Day Makes\", \"Don't Leave Me This Way - Single Version\", 'Gypsys, Tramps & Thieves', 'I Feel Love - Edit', \"You Keep Me Hangin' On\", 'Finally', 'The Only Way Is Up', 'I Am, I Feel', 'Cathedral Song', 'Good Tradition', 'Twist in My Sobriety', 'Kids In America', 'Just What I Always Wanted', 'You Might Need Somebody', 'Gloria', \"Don't Call Me Baby\", \"You're History\", \"Ain't Nobody - 2012 Collection Remaster\", 'I Believe', 'Believe', 'Stay', 'Hero', 'Anytime You Need a Friend', 'All I Want For Christmas Is You', 'Show Me Heaven - From \"Days Of Thunder\" Soundtrack', 'Edge of Seventeen', 'Leather and Lace (with Don Henley)', \"Stop Draggin' My Heart Around (with Tom Petty & The Heartbreakers)\", 'Rooms on Fire', 'Long Way to Go', 'Two Kinds of Love', 'Ooh My Love', 'Ghosts', 'Whole Lotta Trouble', 'Fire Burning', 'Cry Wolf', 'Alice', 'Juliet', 'Doing the Best That I Can (Escape from Berlin)', 'I Still Miss Someone (Blue Eyes)', \"Sometimes It's a Bitch\", \"Stop Draggin' My Heart Around (with Tom Petty and The Heartbreakers)\", 'Whole Lotta Trouble', 'Talk to Me', 'Stand Back', 'Beauty and the Beast', 'If Anyone Falls', 'Rooms on Fire', \"Love's a Hard Game to Play\", 'Edge of Seventeen', \"I Can't Wait\", 'Has Anyone Ever Written Anything for You', 'Desert Angel', 'Edge of Seventeen', \"I Can't Wait\", 'Sorcerer', 'If Anyone Falls', \"Stop Draggin' My Heart Around (with Tom Petty and The Heartbreakers)\", 'Silver Springs - 2001 Remaster', 'Dreams (with Deep Dish)', 'Rhiannon - Live 2005', 'Rooms on Fire', 'Talk to Me', 'Landslide (with the Melbourne Symphony) - Live 2006', 'Stand Back', 'Planets of the Universe', 'Rock and Roll - Live 2005', 'Leather and Lace', 'Edge of Seventeen (with the Melbourne Symphony) - Live 2006', 'Light My Fire', 'State of Independence', \"This Time I Know It's for Real\", 'Dinner with Gershwin', 'State of Independence (New Bass Mix)', 'MacArthur Park - Single Version', 'Bad Girls', 'She Works Hard For The Money', 'Love To Love You Baby - Single Version', 'Could It Be Magic - Single Version', 'State of Independence', '...Baby One More Time', 'Tell It To My Heart', 'Gonna Get Along Without You Now - Edit', \"Can't Get You Out Of My Head\", 'Rather Be', \"Feels Like I'm In Love\", \"I'm Every Woman\", \"Ain't Nobody\", 'Brand New Key', \"Look What They've Done To My Song, Ma\", 'The Night They Drove Old Dixie Down', 'Both Sides Now', 'Ode to Billie Joe', 'Dream a Little Dream of Me', 'Rock A Doodle Do - o', \"I'd Be Surprisingly Good for You\", '(Remember The Days Of) The Old Schoolyard', \"I'm Gonna Run Away from You - 2012 Collection Remaster\", 'Jolene', 'This Is It', 'I Lost My Heart to a Starship Trooper', 'Here, There and Everywhere', 'Tumbling Dice', \"Girl's Talk\", 'Silver Threads And Golden Needles - Remastered', \"It's Oh So Quiet\", 'Big Yellow Taxi', 'Amoureuse - 2008 Remastered Version', \"Travellin' In Style - 2008 Remastered Version\", 'I Drove All Night', 'True Colors', 'Time After Time', 'Girls Just Want to Have Fun', 'Little Bird', 'Walking on Broken Glass', 'Why', 'No More \"I Love You\\'s\"', 'Here With Me', '9 to 5', \"The Emperor's New Clothes\", 'White Flag', 'Un-Break My Heart', 'Luka', 'Love Is A Battlefield', 'You Oughta Know - 2015 Remaster', 'You Learn - 2015 Remaster', 'Put A Little Love In Your Heart', 'Put A Little Love In Your Heart', 'Cloudbusting', 'The Man with the Child in His Eyes', 'Wow', 'Hounds Of Love', 'Running Up That Hill (A Deal With God)', 'Babooshka', 'The Dreaming', 'Wuthering Heights', 'Dreams', 'Torn', \"If I Can't Have You\", 'Islands In The Stream', 'Here You Come Again', 'Islands In the Stream', 'Nothing Has Been Proved - Dance Mix', 'Respectable - Club Mix', \"You Think You're A Man - Radio Edit\", 'Flashdance ... What A Feeling', 'All Around the World', 'Buffalo Stance - 7\" Mix', 'Total Eclipse of the Heart', 'The Power of Love', 'Come And Stay With Me', 'This Little Bird', 'Rush Hour', \"Searchin' (I Gotta Find a Man)\", 'Walking On Broken Glass', 'Stoney End', \"Don't Play That Song\", 'The Night They Drove Old Dixie Down', 'Our Lips Are Sealed', \"It's Only A Paper Moon\", 'Time Warp', 'Bang Bang (My Baby Shot Me Down)', \"I'll Never Fall In Love Again\", 'It Must Be Him (Seul Sur Son E Toile)', 'Those Were The Days', 'Rose Garden', 'The End Of The World', 'Harper Valley P.T.A.', '(We Want) The Same Thing', 'Do You Feel Like I Feel?', 'I Get Weak - 7\" Version', 'Leave a Light On - 7\" Version', 'Big Scary Animal', 'Live Your Life Be Free (Single Edit)', 'Love Hit Me', \"Don't It Make My Brown Eyes Blue\", 'I Am Woman', 'Killing Me Softly With His Song', 'The First Cut Is The Deepest', 'Mandinka', 'Lay Down (Candles In The Rain)', 'Beautiful People', 'Dark Lady', 'Take Me Home', \"Do It Do It Again (A Far L'Amore Comincia Tu) - english vrs\", 'Beautiful', 'Half-Breed', 'Maria', 'The Man Who Sold the World', 'Moonlight Shadow', 'Chequered Love', \"(Today I Met) The Boy I'm Gonna Marry\", \"You Don't Own Me\", 'Maybe I Know', 'California', 'B-A-B-Y', 'You Got The Love - New Voyager Radio Edit', 'What Have They Done To The Rain', 'Lay Down (Candles In The Rain)', 'Tainted Love', \"I'm Gonna Run Away from You\", 'My Man, a Sweet Man', 'Day By Day', \"Don't Play That Song\", 'Monsieur Dupont', 'Something - 1994 Remastered Version', \"They Don't Know\", \"I'd Be Surprisingly Good for You\", 'Best Days Of My Life', 'Soldier Blue', 'Dead Flowers', 'More Like Her', 'Stronger Than Me', 'A Little Bit Stronger', 'Why Should I Care', 'I Learned That from You', 'Still Holding Out For You', \"What I'd Give\", 'Fall Into Me', 'Stand Back Up', 'Dirt Cheap', 'Crazy', 'Come Find Me', 'Black Roses - Full Band Version', 'Borrowed', 'What Have I Done', 'Last Call', 'Blue Sky', 'Love Her And Lose Me', 'Without You', 'Alone', 'This Woman Needs', 'Without A Sound', 'Me Without You', 'Break Down Here', 'If You Had Called Yesterday', \"I Can't Get Over You\", 'Men & Mascara', \"You've Got A Way\", \"I Hope You're The End Of My Story\", \"You Can't Stop Me\", \"Home Ain't Where His Heart Is (Anymore)\", 'The Woman In Me (Needs The Man In You)', \"Baby, Now That I've Found You\", 'Sad Song - Full Band Version', 'Wayfaring Stranger - A Cappella Version', 'Happy', 'A Good Man', 'By Her Side', 'Wrong Again', 'Better Than You Left Me', 'Because of You', 'Crying', 'Cry', \"I Would've Loved You Anyway\", 'Walkaway Joe', 'It Matters to Me', 'Breathe', 'Angels In Waiting', 'I Shall Believe', 'Till It Feels Like Cheating', 'He Loves To Make Me Cry', 'Chances Are', 'A Broken Wing', 'Over You', 'Love Your Memory', 'Consider Me Gone', 'When You Love Someone Like That', 'Keep You', 'Very Last Country Song', 'Stay', \"I'll Only Break Your Heart\", 'Hold My Hand', \"Done Runnin'\", 'I Dare You', 'She Gets What I Deserve', 'Disappear', 'Burning House', 'I Got the Boy', 'Better Off (feat. Vince Gill) (feat. Vince Gill)', 'Unlove You', 'Curtain Call', 'Roots and Wings', 'World Still Round', 'Far Cry from You', 'The Woman on Your Mind', 'I Wish You Loved Me', 'Seven Year Rain', 'Wishing', \"When I'm Gone\", 'This Old Guitar', 'Hole In The World', 'Hold On To Me', 'Willing Heart', 'Strong Tonight', 'I Wish I Was', 'Your Best - Acoustic Version', 'Vice', 'Use My Heart', 'To Learn Her', 'Getaway Driver', 'Tin Man', 'Every Little Thing', 'Well-Rested', 'Hide The Wine', 'Giving Up', 'Cosmonaut (feat. Emmylou Harris)', 'Fire in the Blood / Snake Song', 'SOS', 'Umbrella', \"Don't Stop The Music\", 'Shut Up And Drive', 'Disturbia', 'Take A Bow', 'Russian Roulette', 'Rude Boy', 'Te Amo', 'S&M', \"What's My Name?\", 'Only Girl (In The World)', 'California King Bed', 'Love The Way You Lie (Part II) - Pt. 2', 'Where Have You Been', 'We Found Love', 'Diamonds', 'Stay', 'Work', 'Just Dance', 'LoveGame', 'Paparazzi', 'Poker Face', 'Bad Romance', 'Alejandro', 'Telephone', 'The Monster', 'Born This Way', 'Judas', 'The Edge Of Glory', 'Applause', 'Crazy In Love (feat. Jay-Z)', 'Halo', 'Single Ladies (Put a Ring on It)', 'If I Were a Boy', 'Sweet Dreams', 'Run the World (Girls)', 'Best Thing I Never Had', 'Drunk in Love (feat. Jay-Z)', 'Malibu', 'Party In The U.S.A.', 'The Climb', '7 Things', 'Girls Just Wanna Have Fun', 'Fly on the Wall', \"Can't Be Tamed\", \"Feelin' Myself\", \"We Can't Stop\", 'Wrecking Ball', 'The Way', 'Problem', 'One Last Time', 'Break Free', 'Bang Bang', 'Dangerous Woman', 'Into You', 'Side To Side', 'Rolling in the Deep', 'Set Fire to the Rain', 'Someone Like You', 'Chasing Pavements', 'Make You Feel My Love', 'Titanium (feat. Sia)', 'I Kissed A Girl', 'Hot N Cold', 'Teenage Dream', 'Last Friday Night (T.G.I.F.)', 'California Gurls', 'Firework', 'Peacock', 'Circle The Drain', 'The One That Got Away', 'E.T.', 'Who Am I Living For?', 'Pearl', 'Hummingbird Heartbeat', 'Not Like The Movies', 'If We Ever Meet Again', 'Roar', 'Birthday', 'Unconditionally', 'Dark Horse', 'Chained To The Rhythm', 'Feels (feat. Pharrell Williams, Katy Perry & Big Sean)', 'Part Of Me', 'Wide Awake', 'What About Us', 'Blow Me (One Last Kiss)', 'Try', 'Just Give Me a Reason (feat. Nate Ruess)', 'True Love (feat. Lily Allen)', 'So What', 'Good Time', \"Big Girls Don't Cry (Personal)\", 'Everytime We Touch', 'Summertime Sadness', 'Bulletproof', 'Die Young', 'Irreplaceable', \"Please Don't Leave Me\", 'Fancy', 'We R Who We R', 'Airplanes (feat. Hayley Williams)', 'Wild Ones (feat. Sia)', 'Domino', 'Pound The Alarm', 'I Need Your Love (feat. Ellie Goulding)', 'Chandelier', 'Focus', 'Flashlight - From \"Pitch Perfect 2\" Soundtrack', \"That's My Girl\", 'Poison', 'Only Love Can Hurt Like This', 'Next to Me - Radio Mix', 'The Fear', \"Hips Don't Lie - feat. Wyclef Jean\", 'Suddenly I See', 'Heartbeat Song', 'Since U Been Gone', 'Because of You', 'Ghost', 'Skyscraper', 'Unfaithful', 'My Life Would Suck Without You', 'FourFiveSeconds', 'La La Land', 'Trainwreck', 'Neon Lights', \"Really Don't Care\", 'Give Your Heart a Break', 'Up', 'Confident', 'Cool for the Summer', 'Stone Cold', 'Sorry Not Sorry', 'TiK ToK', 'Fuck You', 'Parachute', 'Fight For This Love', 'Call My Name', 'Promise This', 'Crazy Stupid Love', \"I Don't Care\", 'Take Me Home', 'Hold My Hand', \"Don't Be so Hard on Yourself\", 'With Every Heartbeat - with Kleerup', 'No One', 'no tears left to cry', '2002', 'Glow', 'Never Be the Same (feat. Kane Brown)', 'Love Story - US Album Version', 'I Knew You Were Trouble', '22', 'We Are Never Ever Getting Back Together', 'Everything Has Changed', 'Blank Space', 'Style', 'Shake It Off', 'Wildest Dreams', 'Meant to Be (feat. Florida Georgia Line)', 'Me, Myself & I', 'Not Letting Go (feat. Jess Glynne)', 'Fight Song', 'A Thousand Years', 'Havana', 'New Rules', \"F**kin' Perfect\", \"It Ain't Me (with Selena Gomez)\", 'Want U Back', 'Swagger Jagger', 'With Ur Love (feat. Mike Posner)', 'Solo (feat. Demi Lovato)', 'Lullaby', \"It's My Party\", 'Wild - UK Version', 'Price Tag', 'Who You Are', 'Hot Right Now (feat. RITA ORA) - Radio Edit', 'FRIENDS', 'Girl In The Mirror', 'Hollywood', 'Scars To Your Beautiful', 'Stay', 'Believe', 'God is a woman', 'Love Me Harder', 'Just A Little Bit Of Your Heart', 'Rockabye (feat. Sean Paul & Anne-Marie)', 'Still Falling For You - From \"Bridget Jones\\'s Baby\"', 'Love Me Like You Do - From \"Fifty Shades Of Grey\"', 'How Long Will I Love You - Bonus Track', 'Burn', 'Something In The Way You Move', 'Army', 'Anything Could Happen', 'Explosions', 'Goodness Gracious', 'Your Song - Bonus Track', 'Heaven', 'Green Light', 'Royals', 'thank u, next', 'Wolves', 'The Middle', 'Santa Tell Me', 'One More Sleep', '7 rings', 'Raise Your Glass', 'Beautiful Trauma', 'Let You Love Me', 'Anywhere', 'Your Song', 'I Will Never Let You Down', 'How We Do (Party)', 'Cheap Thrills', 'Starships', 'breathin', 'The Greatest', 'I Love It (feat. Charli XCX) - Original Version', 'I Really Like You', \"break up with your girlfriend, i'm bored\", 'needy', 'Heroes (we could be)', 'Somewhere Only We Know', 'Boys', 'Only 1', 'Bad Boys (feat. Flo Rida)', 'All Night Long (feat. Pitbull) - Single Version', 'Broken Heels - Single Mix', 'Hallelujah', 'Run', 'Bad Liar', 'Kill Em With Kindness', 'Hands To Myself', 'Same Old Love', 'Come & Get It', 'Love You Like A Love Song', 'IDGAF', 'Walk Me Home', 'A Million Dreams', 'Do You Remember', 'What A Time (feat. Niall Horan)', 'Sweet but Psycho', 'Million Reasons', 'Me, Myself and Time', 'The Cure', 'Waking Up In Vegas', 'Jar of Hearts', 'Symphony (feat. Zara Larsson)', 'All About That Bass', 'Dear Future Husband', 'Just Got Paid', 'All About Tonight', 'When We Were Young', 'Hello', 'Send My Love (To Your New Lover)', 'Just Like Fire (From the Original Motion Picture \"Alice Through The Looking Glass\")', 'Nobody Knows', 'Who Knew', 'Just Like a Pill', 'U + Ur Hand', 'Thursday', 'Changing', 'Boom Clap', 'Your Love', \"Don't Hold Your Breath\", 'Boomerang', 'Little Do You Know', 'Good as Hell (feat. Ariana Grande) - Remix', \"Stronger (What Doesn't Kill You)\", 'Love Me Like You Do', 'Higher', 'Powerhouse', 'Arms of the Mountain', 'Come to Me', 'Dance to the Music in My Head', 'The Weather', 'All the Colours', 'Climbing', 'Mumma Moon', 'Scales-Weights', 'Take My Heart (Nouveau Mix)', 'Existence', \"No Man's Land\", \"Is This The Way It's Supposed To Be\", 'Freedom', 'Sing Your Prayers', 'A Bottle of Then', 'Raven Song', 'Summer Rising', 'Seeker', 'Birdie', 'Whatever Happened to My Angel', '5 Mile', 'Steam', 'He / She', 'Here I Am', 'This Ancient Land', 'Psychopaths on White Horses', 'Pines and Needles', 'Love Is the Answer', 'Bunny Bunny', 'Untangle', 'Craving', 'Black and White Love', 'Highest Truth', 'Rain Dance', 'Lost to Be Found', 'Perspex Shield', 'Sweet December Rain', 'Odd Eye', 'HWAA', 'D-D-DANCE', 'CRY FOR ME', 'Lovesick Girls', 'SO BAD', 'Why Not?', 'AYA', 'MAGO', \"I CAN'T STOP ME\", 'Black Mamba', 'Panorama', 'Love So Sweet', 'Ready Or Not', '4 Memory', 'HELICOPTER', 'LA DI DA', 'Not Shy', 'MORE', 'COOL', 'Feel Good (SECRET CODE)', 'Time for me', 'Dingga', 'ALIEN', 'Bad Girl', 'Teddy Bear', 'Got That Boom', 'Lemon Candy', 'Obliviate', 'THE BADDEST', 'Pretty Savage', 'Bon voyage', 'Voice', 'Revolution', 'Zig Zag', 'Only You', 'Monster', 'Now or Never', 'WANNA BE MYSELF', 'JUICY', 'What You Waiting For', 'UNTOUCHABLE', 'Naughty', 'SAY MY NAME', 'Bird', 'La Luna', 'ARISONG', 'Hmph!', 'We Ride', 'Numbers (feat. CHANGMO)', 'Initial S', 'Maria', 'PLAY', 'Nonstop', 'pporappippam 보라빛 밤', 'NUNU NANA', 'Dumhdurum', 'Bet You Wanna (feat. Cardi B)', 'BUTTERFLY', 'VILLAIN', 'GOTTA GO', 'Girls', 'Hug U', 'Spit it out', 'BAZOOKA!', 'YESSIR', 'JUNGLE', 'Tiger Eyes', 'Universe', \"I'LL SHOW YOU\", 'This is me', 'V.A.V.I. GIRL', 'Like This Summer', 'LIE 또 LIE', 'Eclipse', 'ColorFull', 'Be Myself', 'Pantomime', 'SURF', 'Paradise', 'i like u', 'Tra-la', 'WISH', 'Love is Blind', 'WAP (feat. Megan Thee Stallion)', 'Daisy', 'Flewed Out', 'Don’t Stop (feat. Young Thug)', 'Muwop (feat. Gucci Mane)', 'Captain Hook', 'Girls in the Hood', 'Pussy Talk', 'I Like Him', 'B.I.T.C.H.', 'Pretty Bitch Freestyle', 'He Say She Say', 'Yikes', 'May I', 'Tap In', 'STUPID (feat. Yung Baby Tate)', 'B*tch From Da Souf (Remix)', 'Twerk (feat. Cardi B)', 'Diamonds (with Normani)', 'Do It Like Me', 'No Hook', 'Bussin 2.0 (with Saweetie)', 'Pogo (feat. K CAMP)', 'Sugar Daddy', 'SAME HANDS (feat. Lil Durk)', 'On God', 'damn Right', 'On My Shit (Freestyle)', 'Jobs', 'He In His Feelings', 'Really Counts', 'Ah Ah Ah', 'Pretty MF', 'Bussin', 'Hood Bitch', 'Weak', 'Like That Bitch', 'Wake Up (feat. Mulatto)', 'Dominican Mami (feat. Fivio Foreign)', \"That's What I Said\", 'Heavy Steppers - Remix', 'Cheerleader', 'Do Better', 'Own It', 'Ride Or Die - From \"Queen & Slim: The Soundtrack\"', 'Vitamins', 'Thot Box (Remix) [feat. Young MA, Dreezy, Mulatto, DreamDoll, Chinese Kitty]', 'Comic Sans (feat. Jack Harlow)', 'You Tried It', 'Pressure', 'End of the Road', 'Mood', 'Sweet & Dandy', 'Klein Godzilla', 'Took My Love', 'Lo Vas A Olvidar (with ROSALÍA)', 'Slowly', 'Dead Boys', 'Blue Lights - Machiavelli Sessions', 'Intense Feelings', 'Surrender', 'Peur des filles', 'Painkiller', 'Winter Rain', 'White Walls', 'CHARGER', 'MIND ACTRESS', 'Self-Deprecation', \"It Ain't Over\", 'WOMAN', '34+35 Remix (feat. Doja Cat, Megan Thee Stallion) - Remix', 'Eiskönigin', 'Hate Myself', 'Bird Song', 'Wait a Little Bit', 'Chemtrails Over The Country Club', 'Fabulous', 'Come In Closer', 'Lose Your Head', 'champagne problems', 'Celadon & Gold', 'Unantastbar', 'Sieh nur zu', 'Yellow Hearts', 'Toxic Loyalty', 'Down for You', 'You Saved Me', 'Malibu', 'Break Myself', 'Caroline', \"You're Still There\", 'zu spät', 'All Three', 'Old Man (Live At Haparanda, Sweden)', 'Zimmer 21', \"I'm Boring\", 'butterfly', 'Appetite', 'Lucifer', 'Egoist', 'You', 'Fooling Me Twice', \"It's Raining - Listen 2 Sessions - Live\", 'Hollywood', 'Blind', 'Eternal Love', \"Dance Like Nobody's Watching\", 'Dusk', 'GBEGE', 'Coldblooded', 'Babylon Fall', 'Prisoner (feat. Dua Lipa)', 'PAIN', 'All the guys', 'Houdini', 'Remember That', 'Kool', 'Jungle Town', 'Circles', 'Zurück im Fuxxxbau', 'Dngr', 'Feels Right', 'two queens in a king sized bed', 'New Day', 'Read My Lips', \"Draußen auf'm Land\", 'Deep End', 'Hollywood Mansion', 'How Long Is Now', 'Cool With It', 'Compass', 'Undercover Lover', 'Octopus', 'Doudou', 'Depraved Love', 'making bad decisions', 'A Tale Unfolds', 'So Smooth', 'Heiß', 'Easy', 'Out of the Blue', 'Nie wieder leise', 'We Were Here', 'Same Old Story', 'Green Eyes', \"when the party's over\", 'everything i wanted', 'Bored', 'lovely (with Khalid)', 'Six Feet Under', 'Hurts Like Hell', 'ocean eyes', 'i love you', 'bellyache', 'Lose You To Love Me', 'Not About Angels', 'Cinnamon Girl', 'She Used To Be Mine', 'Butterflies', 'Pills N Potions', 'Lucky', 'Perfume', 'Summertime Sadness', 'Heroin', 'Brooklyn Baby', 'Ultraviolence', 'Black Beauty', 'Born To Die', 'Blue Jeans', 'National Anthem', 'Dark Paradise', 'Video Games - Remastered', 'Set Fire to the Rain', 'Someone Like You', \"Don't You Remember\", 'Water Under the Bridge', 'Complicated', \"When You're Gone\", 'Head Above Water', 'My Happy Ending', 'Losing Grip', 'Anything but Ordinary', \"Don't Tell Me\", \"Nobody's Home\", 'Take Me Away', 'Alice - Extended Version', 'pov', 'You Never Know', 'Let It All Go', 'Without Me', 'Him & I (with Halsey)', 'Sorry', 'Castle', 'Hold Me Down', 'New Americana', 'Drive', 'Colors', 'Haunting', 'Control', 'Dollhouse', 'Pacify Her', 'Lies', 'no tears left to cry', 'Team', 'Royals', 'Ribs', 'Tennis Court', 'Buzzcut Season', 'Glory And Gore', 'Yellow Flicker Beat', 'Never Let Me Go', 'Dog Days Are Over', 'Cosmic Love', 'No Light, No Light', 'Spectrum', 'Empty Gold', 'Ghost', 'Hurricane', 'Habits (Stay High)', 'drivers license', 'Edge', \"U Don't Know - Just A Gent Remix\", 'Blood', 'Alien Frequencies', 'Abduct Me', 'Neptune', 'Invade', 'I Come In Peace', 'X-Files', 'Relax', 'DRUGS!', 'Witching Hour', 'Someone Else', 'You Wanted It', 'Bad For Me', 'Drag Me', 'Suffocate', 'Dumb Sh!t (with Jasiah)', 'Church', 'Cry - Bleep Bloop Remix', 'Chillin, Killin', 'Shotgun Sol', 'DEVIATE', 'Shapeshifting (Dub Mix)', 'The Cave', 'No Luck', 'Inferno', 'Brat', \"Don't Really Care\", 'OG Sins', 'Flight Club', 'Pure', 'Fresh Cut Love', 'Glitch', 'From The Dirt', 'In The Quiet - Truth Remix', 'Feel It Out', 'Soft', 'Spam', 'Fury', 'Nin', 'Pink Uzi Gang', 'Shadow Riddim', 'Ghosts', 'Lithos', 'Rave Grave', 'Forest Floor', 'Green House', 'Fuck My Nose Up', 'R U Afraid', 'Akuma', 'Please', 'Supernova', 'Headshot', 'Dealer', 'Crique', 'Wired', 'Kinda Odd', 'Pot Pipes', 'Lowkey (feat. Lil Traffic)', 'Hellraiser', 'Flavour - Godlands Remix', 'Drop It Low (feat. Yung Bambi)', 'Valour (feat. BOI)', '2 Clips', 'Blue Is Tight', 'Drowning', 'Boo Skanka', 'Roar', 'Lets Get Naked (feat. TT) - Original Mix', 'Tattoo', 'Heartbreak House (feat. Kevin Flum)', 'Pingaz - Algo Remix', 'The Game', 'Take Me Back', 'This Ends Now', 'G Chain - Jessica Audiffred Remix', 'Like What the F', 'Maximum Bass', \"Steppin'\", 'Wasted', 'Going Gorillas (Jessica Audiffred Remix)', 'Best Friend', 'My World', 'Badass (with Anna Lunoe)', 'Creep', 'Control', 'IDGAF', 'Arctic Swallow', 'Booksy Riddim', 'Apex', 'Circles - Vibe Emissions Remix', 'H E R', 'Too Many Circuits (Feat. Jayne Gray)', 'Boogie Man', 'Body', 'Drunk Dialing...LODT', 'Come Thru (with Usher)', 'Tonight', 'Playing Games (with Bryson Tiller) - Extended Version', 'Like It (with 6LACK)', 'Just Might (with PARTYNEXTDOOR)', 'Stretch You Out (feat. A Boogie wit da Hoodie)', 'Anna Mae', \"I'll Kill You (feat. Jhené Aiko)\", 'Girls Need Love (with Drake) - Remix', 'Can I', 'Change Your Life (feat. Jhené Aiko)', 'Everybody Business', 'Hate The Club (feat. Masego)', 'Serial Lover', 'F&MU', 'Can You Blame Me (feat. Lucky Daye)', 'Grieving (feat. James Blake)', 'Whipped Cream', 'B.S. (feat. H.E.R.)', 'P*$$Y Fairy (OTW)', 'Sativa', 'Triggered (freestyle)', 'Happiness Over Everything (H.O.E.) (feat. Future & Miguel)', 'One Way St. (feat. Ab-Soul)', 'Surrender (feat. Dr. Chill)', 'Tryna Smoke', '10k Hours (feat. Nas)', 'Savage Remix (feat. Beyoncé)', 'Say So (feat. Nicki Minaj)', 'Slide', 'Wrong Places (from Songland)', \"Could've Been (feat. Bryson Tiller)\", 'Best Part (feat. Daniel Caesar)', 'Every Kind Of Way', 'Changes', 'Avenue', 'Say It Again', 'Let Me In', \"I Won't\", 'My Song', 'Racks (feat. YBN Cordae)', 'Slow Down (with H.E.R.)', 'Gonna Love Me', 'How You Want It?', 'Easy - Remix', 'Eleven (feat. Summer Walker)', 'Chocolate. (ft. Ari Lennox)', 'Before I Do', 'Who Can I Run To', 'So Into You', 'Nunya (feat. Dom Kennedy)', 'Feels', 'In My Feelings', 'Jealous (feat. Lexii Alijai)', 'Niggas', 'Issues/Hold On', 'Forfeit. (ft. Lucky Daye)', 'Mad At Me.', 'Something Real (with London On Da Track & Chris Brown)', 'You Know Wassup', 'Cancelled.', 'Second Chances. (ft. 6LACK)', 'Feel A Way.', 'Distraction', 'BELIEVE IT', 'None Of Your Concern (feat. Big Sean)', 'What You Did (feat. Ella Mai)', 'Off the Grid (feat. Khalid)', 'Broken Clocks', 'Over It', 'The Weekend', 'CPR', 'Wasted', 'Back Home (feat. Summer Walker)', 'Off Of You', 'BUSSIT (with Ari Lennox)', 'If You Let Me', 'Do It To Me', 'All I Know', 'Ex', \"Don't Waste My Time (feat. Ella Mai)\", 'Rules', 'So High', 'Like That (feat. Gucci Mane)', 'Do It', 'Wake Up Love', 'Summer 2020', 'My Affection (with PARTYNEXTDOOR)', 'Fuck Around', 'Best Thing', 'Session 32', 'Three Hour Drive - A COLORS SHOW (feat. SiR)', 'Damage', 'Feel A Way', 'Do To Me', 'Be Honest (feat. Burna Boy)', 'Lights On', 'Change (with Kehlani)', 'Forgive Me', 'EX', 'Infatuation', \"Can't Hold Us Down (feat. Lil' Kim)\", 'Fighter', 'Impossible', 'Dirrty (feat. Redman)', 'Walk Away', 'Let Me Blow Ya Mind', 'motive (with Doja Cat)', 'off the table (with The Weeknd)', 'west side', '34+35', 'positions', \"That's Why I Love You (feat. Sabrina Claudio)\", 'BMO', 'Let It Go', 'Good Days', 'Normal Girl', 'Supermodel', 'Prom', 'Drew Barrymore', 'Love Galore (feat. Travis Scott)', 'The Weekend', 'Go Gina', 'Garden (Say It Like Dat)', 'Broken Clocks', 'Juicy', 'Cyber Sex', 'Rules', 'Bottom Bitch', 'Say So', 'Like That (feat. Gucci Mane)', 'Streets', 'Go To Town', 'Tia Tamera (feat. Rico Nasty)', 'MOOO!', 'Barbie Dreams', 'Good Form (feat. Lil Wayne)', 'Miami', 'Sir (feat. Future)', 'Chun-Li', 'Come See About Me', '2 Lit 2 Late Interlude', 'Nip Tuck', 'Hard White', 'LLC', 'Feeling Myself', 'Hot Girl Summer (feat. Nicki Minaj & Ty Dolla $ign)', 'Anaconda', 'MEGATRON', 'Barbie Tingz', 'Your Love', 'Beez In The Trap', \"I'm Legit\", 'Super Bass', 'Right By My Side', 'No Frauds', 'Yikes', 'Roman In Moscow', 'Massive Attack', 'Moment 4 Life', 'Shanghai', 'Chun Swae (feat. Swae Lee)', 'Whole Lotta Choppas (Remix) [feat. Nicki Minaj]', 'Lookin Ass', 'The Way Life Goes (feat. Nicki Minaj & Oh Wonder) - Remix', 'FEFE', 'You Da Baddest (feat. Nicki Minaj)', \"Doin' Time\", 'Norman fucking Rockwell', 'Venice Bitch', 'California', 'Mariners Apartment Complex', 'Fuck it I love you', 'Love song', 'Bartender', 'Happiness is a butterfly', 'hope is a dangerous thing for a woman like me to have - but I have it', 'Cinnamon Girl', 'How to disappear', 'The greatest', 'The Next Best American Record', 'Lust For Life (with The Weeknd)', '13 Beaches', 'Heroin', 'Freak', 'Art Deco', 'Salvatore', 'Swan Song', 'The Blackest Day', \"Don't Let Me Be Misunderstood\", 'High By The Beach', 'Without You', 'Blue Jeans', 'National Anthem', 'Summertime Sadness', 'Lolita', 'This Is What Makes Us Girls', 'Video Games - Remastered', 'Ride', 'Born To Die', 'Love', 'White Mustang', 'Jobs', 'Pussy Talk', 'Sweet Tooth', 'Take Yo Man', 'Period (We Live)', 'Not Ya Main', 'How To Pimp A N**ga', 'Tighten Up', 'Where The Bag At', 'You Tried It', 'Act Up', 'Fu*k Dat Ni**a', 'Countdown', '7/11', 'If I Were a Boy', 'Single Ladies (Put a Ring on It)', \"Why Don't You Love Me\", 'Diva', 'Partition', 'Hold Up', 'Formation', 'Sorry', 'APESHIT', 'My Type', 'ICY GRL', 'Freak Nasty', 'Cash Shit (feat. DaBaby)', 'Captain Hook', 'B.I.T.C.H.', 'Big Ole Freak', 'Hot Girl', 'Ribs', 'Hard Feelings/Loveless', 'Smack a Bitch', 'IPHONE', 'Stomp and Grind (feat. Rico Nasty)', 'Beef FloMix', 'In The Party', 'Kiss It Better', 'Work', 'Needed Me', 'Yeah, I Said It', 'Love On The Brain', 'Bitch Better Have My Money', 'You Da One', 'Where Have You Been', 'Pour It Up', 'We Found Love', 'Take A Bow', 'S&M', 'Umbrella', \"Don't Stop The Music\", 'Pretty Girl', 'Flaming Hot Cheetos', 'Bubble Gum', '4EVER', 'Future Nostalgia', \"Don't Start Now\", 'Cool', 'Physical', 'Levitating', 'Pretty Please', 'Hallucinate', 'Love Again', 'Break My Heart', 'Good In Bed', 'Boys Will Be Boys', 'Next Level Charli', 'Gone', 'Cross You Out (feat. Sky Ferreira)', '1999', 'Click (feat. Kim Petras and Tommy Cash)', 'Warm (feat. HAIM)', 'Thoughts', 'Blame It on Your Love (feat. Lizzo)', 'White Mercedes', 'Silver Cross', \"I Don't Wanna Know\", 'Official', 'Shake It (feat. Big Freedia, CupcakKe, Brooke Candy and Pabllo Vittar)', 'February 2017 (feat. Clairo and Yaeji)', '2099 (feat. Troye Sivan)', 'claws', 'enemy', 'Vroom Vroom', 'forever', 'Fancy', 'ringtone (Remix) [feat. Charli XCX, Rico Nasty, Kero Kero Bonito]', 'exile (feat. Bon Iver)', 'cardigan', 'august', 'London Boy', 'Look What You Made Me Do', 'Blank Space', 'Style', 'Shake It Off', 'You Need To Calm Down', 'Always Be My Baby', 'Obsessed', 'We Belong Together', 'Without You', 'Rain On Me (with Ariana Grande)', 'Stupid Love', 'Rain On Me (with Ariana Grande)', 'Bad Romance', 'Always Remember Us This Way', 'Poker Face', 'Just Dance', 'Paparazzi', 'Alejandro', 'Telephone', 'Born This Way', 'Applause', 'Milkshake', 'Pocketful of Sunshine', 'Genie In a Bottle', 'without you', 'Crush', 'Sweet but Psycho', '7 rings', 'Girls Need Love', 'CRAZY', 'Donuts', \"Boo'd Up\", 'Motivation', 'Stargirl Interlude', 'Don’t Stop (feat. Young Thug)', 'All In My Head (Flex) (feat. Fetty Wap)', 'Heart Of Glass (Live from the iHeart Festival)', 'in my head', 'MONOPOLY (with Victoria Monét)', 'Dead To Me', 'positions', 'Talking Body', 'Truth Hurts', 'Drunk in Love (feat. Jay-Z)', 'party 4 u', 'c2.0', 'Friday', 'Flawless Remix (feat. Nicki Minaj)', '34+35', 'Perfect (feat. City Girls)', 'Dip (feat. Nicki Minaj)', 'Bottoms Up (feat. Nicki Minaj)', 'Rake It Up (feat. Nicki Minaj)', 'Plain Jane REMIX (feat. Nicki Minaj)', 'Zombie (Live from the NIVA Save Our Stages Festival)', 'STUPID (feat. Yung Baby Tate)', 'my future', 'daisy', '1950', '7 rings', 'Intro', 'Pretty Girl', 'come out and play', \"We Can't Stop\", 'Hardcore High', 'bad guy', 'xanny', 'all the good girls go to hell', 'you should see me in a crown', 'Bling Bling', \"I'm Every Woman\", 'Party In The U.S.A.', 'Live Bitch', 'Unholy', 'Coco Chanel', 'Bye Bye', \"Glad He's Gone\", 'Friends', 'Wait a Minute!', 'bad idea!', 'everything i wanted', '100 Ways', 'Say So', 'we fell in love in october', 'Left Side', 'You, Dear', 'TTCL', 'Subside', \"If I'm Being Honest\", 'Guilty Conscience', 'CRAZY', 'Under The Moon', 'Honey', 'Life Goes On', \"Hi, It's Me\", 'Special', 'Kein Wort', \"Boys Ain't Shit\", 'No Time To Die', 'Good as Hell', 'Feeling Good', 'Demons', 'Misty', 'Twilight Zone', 'Moral of the Story', 'Tantrum', 'ANKLES', 'Angst', 'No Matter the Season', 'Guapdaddy', 'Juice', \"MAYBE IT'S ME\", 'Best Friend', 'feel something', 'Savage', 'Waiting', 'Schwesta Schwesta', 'bitches broken hearts', 'Grandfather Clock', 'Inside Out', 'So Simple', 'TwentyTwo', 'Just Friends', 'Smaller Than This', 'no faker', 'Young & Sad', 'Worrisome Heart', 'Say It - Spotify Studio Oyster Recording', 'Figure It Out', '2', 'On 11', 'Tomboy', 'Bang', 'Lovestained', 'Sofia', 'White Flag', 'Sinking', 'Feel', 'Cry (feat. Grimes)', 'INTRUDERS', 'how does one love', 'Home for the Summer', \"I Can't Breathe\", 'Pancakes for Dinner', 'A Little Time on Me', 'Hurts To Be Alone', 'Stumble On My Way', 'Daisy', '안녕, 쟈기?', 'Cry (feat. Grimes)', 'Time Machine', 'Female Energy, Part 2', 'Marceline', 'Friends Go', 'Bisexual', 'Midnight Sky', 'For Once In My Life', 'Let Me Blow Ya Mind', 'Tears Dry On Their Own', 'Love Is A Losing Game', \"I Think We're Alone Now\", 'Mercedes Benz', 'How You Like That', 'If Only', 'Dazed', 'cardigan', 'Soon Enough', 'Working Bitch', 'Blow', 'Nice Girl', 'Invitation (feat. Kodie Shane)', 'No Brainer', 'Sass Pancakes', 'Bubblegum (feat. Avelino)', 'Fuck Me in Shibuya', 'Thrust', 'Special', 'Manners', 'Heart Of Glass (Live from the iHeart Festival)', 'Only Time Makes It Human', 'Cool Girl', 'Damage', 'I Got So High That I Saw Jesus (feat. Miley Cyrus) - Live Recording', 'Turn Me On', 'Come Away With Me', \"Don't Know Why\", 'my boy', 'COPYCAT', 'Ribs', 'Boys Wanna Be Her', 'Fuck the Pain Away', 'Girls Like Girls', 'girls', 'Girls Just Want to Have Fun', 'F*** Being Friends', 'Time After Time', 'What A Feeling', 'Like a Virgin', 'Tell It to My Heart', 'Toxic', 'Womanizer', 'Milkshake', '...Baby One More Time', 'Boss Bitch', 'Was ich meine', 'Your Love Is King', 'Smooth Operator - Single Version', 'Therefore I Am', 'Prisoner (feat. Dua Lipa)', 'Space Girl', 'One Wish', 'Place At The Table', 'Homecoming', 'Hushabye Mountain', 'Someone New', 'WTF Do I Know', 'Plastic Hearts', 'Angels Like You', 'Prisoner (feat. Dua Lipa)', 'Gimme What I Want', 'High', 'Hate Me', 'Bad Karma (feat. Joan Jett)', 'Golden G String', 'The Hardest Part', 'What Am I Gonna Do On Sundays?', 'Ok Love You Bye', 'Crosswords', 'Baby Come Home', 'Echo', 'Out', 'Put Your Records On', 'Daisy 2.0 (feat. Hatsune Miku)', 'Rainbow', 'All Three', 'Frei', 'Tabledance', 'Almost In Love', 'Bad Girls', 'Password Change', 'Reason To Stay', 'Jenny (I Wanna Ruin Our Friendship)', 'Fancy', 'プラスティック・ラヴ', \"Countin' Up\", 'Jump (For My Love)', 'Monster Truck', 'No Other Like You', 'Kick It to Me', 'Fragile', 'Good Days', \"You Don't Know Me\", 'do u go out together?', 'Rewind', 'Morning', 'Twilight', 'The 1', 'Put in Work', 'You Feel', 'Deal With It (feat. Kelis)', 'Lo Vas A Olvidar (with ROSALÍA)', 'Say My Name', 'Ready', 'Come Rest', 'Take My Hand', 'Face To Face', 'You Never Change', 'Speak', 'Hold On To Me', 'Where Do You Go', 'Let Go', 'If It Leads Me Back', 'Little Light', 'Open Up The Heavens', 'Not For A Moment [After All]', 'Strong God', 'Start With Me', 'Worth It All', 'All I Ask', 'Burn Away', 'Your Kingdom Reigns', 'Wonder Of Wonders', 'The Gospel Changes Everything', 'Pieces', 'Blessed Are The Ones', 'Even The Winter', 'The Way You Move', 'Sparrow', 'Breaking You', 'O My Soul', 'Won Me Over', 'No Turning Back', 'Lament', 'Wherever You Go', 'Slow', 'New Song', 'For Love Of You', \"The House You're Building\", 'Breaking Through', 'Everything Is Yours', 'Restless', 'Carry Me', 'Ought To Be', 'Known', 'Come Clean', 'Run Forward', 'Show Me', 'With You Now', 'I Place My Hope', 'May the Words', \"Can't Outrun Your Love\", 'He Will Give the Weary Strength', 'We Shall Always Be With the Lord', 'Magnolia', \"Don't Forget His Love (Psalm 103)\", 'Grateful For Your Love', 'The Valley', 'My Heart Is Steadfast (Psalm 108)', 'Anchor of Hope', 'Rock of Habitation', 'The Broken Beautiful', 'Write Your Story', 'When The Crazy Kicks In', 'He Knows My Name', 'Holy Spirit', 'Hands To The Heavens - Live', 'Breathe On Us - Live', 'Only Your Love - Live', 'Keeper Of My Heart - Live', 'Always Enough - Live', 'Forever - Live', 'How Majestic - Live', 'When You Walk In The Room - Live', 'I Am Not Alone - Live', 'Holy Spirit - Live', 'Lord Over All - Live', 'Look Upon The Lord - Live', 'Let The Heavens Open - Live', 'Lamb Of God', 'Write Your Story', 'When The Crazy Kicks In', 'He Knows My Name', 'Unusual', 'Choose To Love', 'Run To Jesus', 'Find Rest', \"If We're Honest\", 'Giants Fall', 'Hands Of God - feat. Matt Hammitt', 'We Are The Kingdom', 'Holy Spirit', 'Keeping Score', 'I Am Home', 'Tonight - feat. All Sons & Daughters', 'Giants Fall - Live At Marathon', 'Write Your Story - Live At Marathon', 'Humble', 'Open the Eyes of My Heart', 'Lament', 'Lead Me On', 'I Shall Not Want', 'You Speak', 'Good to Me', 'Come Thou Fount', 'Empty Handed', 'Empty Handed', 'A Little', 'Jesus Be', 'One More Step', 'With The Brokenhearted', 'Reaching Arms', 'The In Between', 'Mess Like Me', 'Rule The World', \"Love Won't Give Up\", 'More Certain Than The Stars', 'Steady Heart (feat. Amanda Cook)', 'You Know Me', 'Home', \"I'll Be Your Friend\", 'California Waves', 'Right Now', 'Beautiful Eyes', 'Want to Know You', 'Courage', 'Wonderful Love', 'There Is Grace (Acoustic Version)', 'Follow Me', 'I¹m Gonna Marry Him', 'Backyard', 'Stars in the Sky', 'A Dream', 'Sailor and a Southern Girl', 'He Knows My Name', 'Invincible', 'Queen of Your World', 'Happy Land', 'The One', 'Your Song', 'Always Good', 'We Still Believe', 'Sing on the Battlefield', 'I Will Stay', 'Sovereign over Us', 'Sing on the Battlefield (Acoustic Version)', 'I Know A Secret', 'What My Life Is For', 'I Will Praise You', 'Deeper', 'Made For More', 'All Things', 'No Borders', 'In This Darkness', 'O The Deep', \"Stumblin'\", 'I Am Yours', 'What You Believe', 'Without You', \"Don't Waste Your Life\", 'If You Want Me To', 'Fortunate Fall', 'Help My Unbelief', 'Humble', 'O Happy Fault', 'Lead Me On', 'I Shall Not Want', 'Good to Me', 'Felix Culpa', 'Spirit of the Living God', 'Lead, Kindly Light', 'You Speak', 'Come Ye Thankful People Come', 'Death in His Grave', 'Love Is Moving', 'Death, Be Not Proud', 'Birmingham', 'Dance With Me', 'Home With You', 'New Orleans', 'He and She', 'Until the Levee', 'Woman (Oh Mama)', 'Satisfy', 'To Those Who Wait', \"You're The Best Song (feat. Shane Barnard)\", 'You Did Not Have A Home (feat. Shane Barnard)', 'Beautiful', 'Move Forward', 'Beautiful - Acoustic', 'Great Big Mystery - Acoustic', 'For My Love - Acoustic', 'Revolutionaries - Acoustic', 'Rocketeer', 'Why We Sing', 'Cast My Cares', 'Savior Like a Shepard Lead Us', 'Springtime', 'Child of God', \"This Is My Father's World\", 'Praise the Lamb', 'Eden', 'Who Is This God', 'Thy Mercy, My God', 'In The Secret Of His Presence', 'Rock Of Ages (When The Day Seems Long)', 'The Love Of Christ Is Rich And Free', 'Grace Upon Grace', 'Fall on Me (feat. Derek Webb)', 'Head Over Heel', 'Long Way Home', 'Goodbye George', 'Gravity', 'Traincar', 'Portadown Station', 'Doubt', 'Broken Cup', 'Shelter', 'Chattanooga', 'All The Miles', 'In Feast Or Fallow (with Thad Cockrell & Derek Webb)', 'Hope', 'Homeward Bound', 'How Can It Be', 'Trust In You', 'My Revival', 'Loyal', 'Power To Redeem', \"Here's My Heart\", \"O'Lord\", 'I Am Yours', 'Come Alive (Dry Bones)', 'Salt & Light', 'Once And For All', 'Cornerstone (feat. Audrey Assad)', 'Something In The Water', 'Something In The Water', 'Betty', 'Orphans, Kingdoms', 'Who Are We Fooling? (feat. Aqualung)', 'Ice On Her Lashes', 'Coachella', 'Jack Kerouac', 'Sailboats', 'Crows + Locusts', \"Here's To You\", 'Flags', 'May Waltz (Bonus Track)', 'Woodstock (Bonus Track)', 'You Can Close Your Eyes (feat. William Fitzsimmons) [Bonus Track]', 'Coachella (Extended)', 'Flags (Acoustic)', 'Soar', 'Vanity Vanity', 'Have Your Eyes Open', 'This Thing Is Not Going to Break You', 'Shine', 'Come Close Now', 'Feed Your Soul', 'You Are My Defense', 'For My Child', 'The Way That You Love Me', 'More Than I Am', 'Being Loved', 'All We Need', 'Remedy', \"Savior's Face\", \"Beauty's Just A Word\", 'No Escape', 'Uncharted Territory', 'Elevate', 'My One and Only', 'Run To You', 'Feel', 'Human', 'Live For You', 'Blessed', 'The Unmaking', 'Not To Us', 'Name', 'Love You More', 'Something Out Of Me', 'Slow Down', 'Even Unto Death', 'Softly and Tenderly', 'Sunrise', 'Deeper', 'I Look To The King', 'Spirit Of The Living God', 'Soar', 'Extravagant', 'Glory', 'Trusted', 'Impossible', 'Hands That Are Holding Me', 'Take Me Back', 'Lamb Of God', 'Christ Is Enough', 'Jesus Sees', 'Holy, Holy, Holy', 'The Motions', 'Worth It', 'I Will Rise', 'Let the Waters Rise', 'Before the Throne', 'Ubi Caritas', 'Holy, Holy, Holy', 'Be Thou My Vision', 'I Wonder as I Wander', 'How Can I Keep from Singing', 'Oh, the Deep, Deep Love of Jesus (feat. Fernando Ortega)', \"Jesus' blood Never Failed Me Yet\", 'New Every Morning', 'It Is Well with My Soul', 'Even Unto Death', 'Abide with Me', 'First', 'Heroes', 'Shepherd (Studio)', 'Never See the End', 'Mercy', 'Kind', 'Closer (Studio)', 'Highest Praise', 'Brave New World (Instrumental)', 'City of Hope', 'Morning Song', 'Constant One', 'Out of Hiding', 'I Spoke Up', 'Cecie’s Lullaby', 'Letting Go', 'Promise I Always Will', 'Steady Heart (feat. Amanda Cook)', 'No Fear in Love', 'Open up Let the Light In', 'Getting There', 'The Unmaking', 'First', 'How Can It Be', 'Trust In You', 'My Revival', 'Loyal', 'Power To Redeem', \"Here's My Heart\", \"O'Lord\", 'I Am Yours', 'Come Alive (Dry Bones)', 'Salt & Light', 'Once And For All', 'Now Is Forever - Bonus Track', 'Wordless - Bonus Track', 'First - Deluxe Sessions', 'Come Alive (Dry Bones) - Deluxe Sessions', 'How Can It Be - Live', 'Set The World On Fire - Acoustic', 'Headphones - Acoustic', 'The Lost Get Found - Acoustic', 'Walk On The Water - Acoustic', 'Found By You - Acoustic', 'Hanging On - Acoustic', 'All I Need', 'Beautiful - Acoustic', 'When You Love Someone', 'Hallelujah - Acoustic', 'Top Of The World', 'We Can Work It Out', 'Dreamer', 'The Kingdom', 'Let Your Light Shine', 'Hero', 'It Is Well (Live)', 'All the Poor and Powerless', 'Your Great Name (Acoustic) (Bonus Track)', 'A Prayer for Grace (feat. All Sons & Daughters)', 'Storyteller (feat. Jamie Grace)', 'Morning', 'Where You Are', 'Grateful', 'Everyday People', 'Lead Me Back', 'On You', \"I Can't Save Myself (feat. Mac Powell)\", 'Beautiful Messes', 'Still', 'Safe Haven', 'Sheltered In The Arms Of God', 'The Faithful Love Of Jesus', 'The River (Come On Down)', 'Thy Will', 'Untitled Hymn (Come To Jesus)', 'Love Remains', 'We March On', 'Your Unfailing Love', 'Come Thou Fount', \"Ain't No Grave\", \"Nineveh's Song\", 'Shadowfeet', 'Deciphering Me', 'Love, Where Is Your Fire?', 'Love Is Waiting', 'Albertine', 'C.S. Lewis Song', 'Faithful', 'Seeds', \"Hosea's Wife\", 'The Thief', 'Hymn', 'Through Your Eyes', 'Undivided', 'Gold', 'All This Time - Pop Mix', 'Look Like Love', 'Who You Say You Are', 'Ready Or Not', 'Breakthrough', 'Stand', 'The Sun Is Rising', 'Amazing Life', 'Still That Girl', 'Seeing For The First Time', 'New Every Morning (Fox Sessions)', 'You Have My Surrender (Live)', 'It Is Well', 'Close - Live', 'Warrior', 'Undivided', 'Radiate', 'Never Leave Your Side', 'Your Love Defends Me', 'Overflow', 'I Stand Here', 'Lifeline', 'Love I Leave', 'Mercy Won', 'Be Still and Know (feat. Mark Hall)', 'Hey Mama', 'Steady Me (feat. Aaron Cole)', 'Mine', 'Be Thou My Vision (Fox Sessions)', 'How Can I Keep from Singing (Fox Sessions) [feat. Sarah Kroger]', 'New Every Morning (Fox Sessions)', 'It Is Well With My Soul (Fox Sessions) [feat. Sarah Kroger]', 'Fallin In Love', 'Through Your Eyes', 'All The Money', 'Better', 'Work Of Art', 'Be The Change', 'All Day', 'Pave', 'No Filter', 'Girls Night Out', 'After You', 'Concrete', 'Heart Of Stone', \"There's Never Been a Time (Live)\", 'Worthy of It All (Live)', 'Have You Ever Seen His Eyes (Live)', 'Worthy of It All (Extended) [Live]', 'Desire of the Nations (Live)', 'All Ye Refugees', 'We Will Feast in the House of Zion', 'Almighty God', 'My Help, My God (Psalm 42)', 'Sweet Comfort', 'All Your Works Are Good (Psalm 104)', 'Flourishing (Psalm 119)', 'My Soul Finds Rest (Psalm 62)', 'From the Rising of the Sun (Psalm 113)', 'Send out Your Light (Psalm 43)', 'Have Mercy', 'Almighty God (Bonus Remix)', 'Gotten This Far', 'How Could I Not Love', 'Kindest Man', 'Surely', 'Someone to Love You (Acoustic)', 'Till Forever (Acoustic)', 'We Can Never Go Back (Acoustic)', 'Sweet Love of Mine (Acoustic)', 'Welcome Home (Acoustic)', 'You Loved Me (Acoustic)', 'Venus (Acoustic)', \"I Don't Mind\", 'Ordinary World', 'My Soul Waits', 'Awaken Me', 'Awake My Soul & Sing', 'God Have Your Way In Me', 'At the Well', \"There's a River\", 'Higher I Go', 'High & Lowly', 'My Worth Is Not In What I Own', 'Covenant', 'A Better Word', 'Speak The Name', \"Won't He Do It (Remix)\", 'Warriors', 'Reasons (feat. J. Monty) (feat. J. Monty)', \"I Won't Let You Go\", 'Strong in You', 'You Lift Me Up', 'In Your Hands', 'Back to You', 'As Long as I Live', 'Be Still My Soul', 'Nowhere (Acoustic)', 'Right Where You Want Me', 'Amor Real', 'Real Love', 'Undeniable', 'What If', 'Remind Me', 'Give It All', 'Evergreen', 'Deliverer', 'Little Things With Great Love', 'The Joy of the Lord', 'River (feat. Propaganda)', 'Unfolding', 'Teresa', 'Irrational Season', 'Wounded Healer', 'When I See You', \"Immanuel's Land\", 'What a Beautiful Name', 'Ever Be', 'How Could I Be Silent', 'Nothing To Hide', 'The Breakup Song', 'You Say', 'Unstoppable', 'Still Rolling Stones', \"He's Always Been Faithful\", 'Still Rolling Stones', 'Rescue', 'This Girl', 'Your Wings', 'You Say', 'Everything', 'Love Like This', 'Look Up Child', 'Losing My Religion', 'Remember', 'Rebel Heart', 'Inevitable', 'Turn Your Eyes Upon Jesus', 'The Trouble with Wanting', 'Canary', 'Behold (Then Sings My Soul)', 'Defender (Neon Feather Remix)', \"Won't He Do It\", 'Turn Your Eyes Upon Jesus', 'Side of My Heart', \"He's Good\", 'So Long', 'Defender (Single Version)', 'Hand to Hold', 'I Belong Here', 'Love Gives All', 'Reach for Me', 'It Is Finished', 'Right Here', 'Over My Head', 'Broken & Open', \"If I'm Honest\", 'Over My Head', 'Broken & Open', 'Just Breathe', 'Over My Head', 'What I Really Wanna Say', 'Broken & Open', 'Freefall', 'Kings & Queens', 'No Distance', \"If I'm Honest\", 'Just Breathe', 'Worth Living For', 'Unmistakable', 'Not Letting Go', 'Just You and Me', 'Unmistakable', 'Worth Living For', 'What I Really Wanna Say', \"Don't Let It Die\", 'Kings & Queens', 'Hello to Daylight', 'The Runaway', 'No Distance', 'Psalm 42', 'Awe + Wonder - Live', 'Love Song', 'What Love Looks Like (Single Version)', 'I’ll Give Thanks', 'Love Lifting Me', \"Into the Sea (It's Gonna Be Ok)\", 'I Belong to You', 'Sound of Heaven', 'Safe Here (Single Version)', 'Lament', 'Oceans (Where Feet May Fail)', 'Touch The Sky', 'Broken Vessels (Amazing Grace) - Live', \"O' Lord - Radio Version\", 'Lead Me To The Cross', 'You Make Me Brave (Live)', 'King of My Heart - Live', 'Another In The Fire - Studio', 'The Wonder', 'Sovereign Ruler of the Skies', 'Faith Hope & Love', 'He Will Hold Me Fast', 'Heal Our Land - Radio Mix', 'Canary', 'Front Porch', 'When Does a Heart Move On', 'All I Need', 'The Trouble with Wanting', 'No Place Like You', 'One and Only', 'When Creation Was Young', \"Preacher's Daughter\", 'Hotel St. Cecilia', 'Be with You', \"Look How Far We've Come\", 'Paris (Ooh La La)', 'Back To The River', \"Rollin' and Tumblin' - Live\", 'Nick Of Time', 'Angel from Montgomery - 2008 Remaster', 'Feels Like Home', 'You', 'Have A Heart', 'Not The Only One - Radio Edit', 'Six Strings Down', 'Rainy Day Man - 2008 Remaster', 'Two Lives - Remastered Version', 'Runaway - Remaster', 'Need You Tonight', 'Live Wire', 'Hell To Pay', 'Since I Fell for You - Remastered', 'Baby I Love You', \"Don't Think Twice, It's All Right - Live\", 'Angel from Montgomery - Live', 'Sweet Forgiveness', 'Loving You Is Sweeter Than Ever', 'Alone - Live', 'It Hurt so Bad - Live', 'Ragged Company (feat. Willie Nelson) - Bonus Track', 'Stars (feat. Kenny Chesney) - Bonus Track', 'Treat Me Right', 'Eachother [Feat. Jackson Browne, Marcus King, & Lucius]', 'Love Is Love', 'Respect', 'Think', 'Someone Like You', \"It's Too Late\", 'Son Of A Preacher Man', \"Wishin' And Hopin' - Stereo Version\", 'Walk on By', \"Something's Got A Hold On Me\", \"I'd Rather Go Blind\", \"Don't It Make My Brown Eyes Blue\", 'Me and Bobby McGee', 'Put A Little Love In Your Heart', 'How Do I Live', 'To Sir With Love', 'Tumbling Dice - 2017 Remaster', 'As Tears Go By', 'This Will Be (An Everlasting Love)', 'Come Away With Me', 'Turn Me On', 'Love On The Brain', \"Don't Sleep In the Subway\", 'Angel', 'The Best - Edit', \"What's Love Got to Do with It\", \"Dance Like We're Making Love\", 'Diary (feat. Tony! Toni! Tone! & Jermaine Paul)', 'Shattered', 'Dangerously In Love', 'We Belong Together', 'Be Without You - Kendu Mix', 'When I See U', \"You Don't Know My Name\", \"Just Kickin' It\", \"I'm Your Baby Tonight\", \"Livin' It Up (feat. Nicki Minaj)\", 'Foolish', 'Weak', \"Nobody's Supposed to Be Here\", \"Don't Let Go (Love)\", 'The Boy Is Mine', 'Un-Break My Heart', 'Unappreciated', 'Say My Name', 'No Scrubs', 'Super Bass', \"No More (Baby I'ma Do Right)\", 'Heartbreaker (feat. Jay-Z)', 'Honeymoon Avenue', \"Fallin'\", \"Like You'll Never See Me Again\", 'Deja Vu (feat. Jay-Z)', 'I Bet', 'Truth Is', 'Tattooed Heart', 'Always Be My Baby', \"It Won't Stop (feat. Chris Brown) - EP Version\", \"If It's Lovin' That You Want\", 'Love', 'Kiss & Tell', \"Let's Wait Awhile\", 'Fallen', 'Me & U', 'Right Thru Me', \"I Just Can't Do This\", 'I Can Love You', 'Far Away', \"If You Don't Wanna Love Me\", 'Body Party', 'Have You Ever', 'Torn', 'Doing Too Much (feat. Baby Bash) - Main', \"Goin' Crazy\", 'Teenage Love Affair', 'Maybe', 'Mr. Wrong', 'Never Ever (feat. Jeezy)', 'Russian Roulette', \"Un-thinkable (I'm Ready)\", 'Enough Cryin', 'The Title', 'If I Were a Boy', 'Unfaithful', 'Nobody Like You (feat. Jacob Latimore)', 'All the Way Home', 'Yesterday (feat. Trey Songz) - Toni/Trey Version', 'I Have Nothing', 'Loveeeeeee Song', 'My Love', \"U Should've Known Better\", 'Like the Sea', 'Miss You Much', 'Stickwitu', 'DUI', 'Mine Again', 'Joy Ride', 'Right By My Side', 'So Hard', 'Dance for You', 'Case Of The Ex (Whatcha Gonna Do)', 'We Ride', 'Next To You (feat. R. Kelly)', 'So Gone', 'My Love Is Like...Wo - Main Mix/Album Version', 'Hate That I Love You', 'Lullaby', 'Almost Is Never Enough', \"Nobody's Business\", \"Can't Raise a Man\", 'I Wish You Knew', 'We Got Hood Love', 'The Heart Wants What It Wants', 'Overdose', 'Happy', 'I Got A Thang For You', \"Don't Stop The Music\", 'Fly', 'I Wanna Be Down', \"Doesn't Really Matter\", 'In My Mind', 'I Am Not My Hair - Featuring Akon', \"Let's Hear It for the Boy\", 'Love Will Be Waiting At Home - from Waiting to Exhale - Original Soundtrack', 'Fire Burns', 'Genie in a Bottle', '...Baby One More Time', 'Sorry - Remix Part 2 (feat. Future)', 'All I Have (feat. LL Cool J)', 'No Air (feat. Chris Brown)', 'With You', 'Cater 2 U', 'Here We Go (feat. Kelly Rowland)', 'Complicated', '1 Thing', 'Wish I Never Met You', 'Bring It All to Me (feat. *NSYNC)', \"Don't Forget About Us\", \"Love Don't Cost a Thing\", 'I Want To Kiss You', 'Dying From A Broken Heart', 'When I Think Of You', 'Say Yes', 'Refill', 'It Kills Me', 'Stranger in My House', 'Unbelievable', 'Dance Alone', \"I'll Be Lovin' U Long Time\", 'Sorry', 'Replay', \"Who's Laughing Now\", 'Someone To Call My Lover', 'My Little Secret', 'If You Had My Love', 'Cover Girl', 'What Have You Done For Me Lately', 'Complicated', 'Do What U Want', 'Dreaming Of You', 'If I Could Turn Back Time', 'I Like It', \"What's Love Got to Do with It\", 'Baby-Baby-Baby', \"I Don't Wanna\", '4AM', \"If I Ain't Got You\", 'All For You', 'Take Me As I Am', 'Baby Boy (feat. Sean Paul)', 'Love Like This', 'I Remember', 'At Your Best (You Are Love)', 'Free Yourself (feat. Missy Elliott)', 'The Pleasure Principle', 'The Way That I Love You', 'Wrong Side Of A Love Song', 'No One', 'No Sleeep', 'Teary Eyed - without Mommy Interlude', 'Whip My Hair', 'Last Night', 'Full Moon', \"Movin' On\", \"He Ain't Wit Me Now (Tho)\", \"I'm Good - Radio Version\", 'Best Thing I Never Had', 'Yes', 'Right Here (Departed)', 'I Should Have Cheated', 'Take Me Away', 'Long Way Down', 'Trust', 'Make It Last Forever', \"I'm Just Me\", 'And I', 'Other Chicks', 'Ooh Baby', 'Thug Style', 'Pick Up The Phone', \"Lookin' At You\", 'Stuck On You', 'Without Me', 'Promise Ring (feat. Ciara)', 'No Air (feat. Chris Brown)', 'Steelo', 'Easy', 'Strong As Steel - 7\" Version', \"Whenever You're Ready\", 'Guess What', 'The Things That You Do', 'Heard It All Before', 'Ice Cream', 'Wishing on a Star', 'Everything', 'Sweet Thing', 'Wildest Dreams', 'My Man', 'Blame It On Me', 'You', 'Buyou', 'Back 2 Life', 'Lady Marmalade - From \"Moulin Rouge\" Soundtrack', 'Officially Missing You', 'Questions', 'December', '4Ever (feat. Fabolous)', \"Don't Think I'm Not\", 'G.H.E.T.T.O.U.T.', 'Freak Like Me', 'Oops (Oh My) [feat. Missy Elliott]', 'Nothing In This World', 'If You Love Me', 'Where My Girls At', 'Who Can I Run To', \"I'm So Into You\", 'Right Here - Human Nature Radio Mix', 'Hey Mr. D.J.', \"Can't You See (feat. The Notorious B.I.G.)\", 'Guess What', 'Golden', 'Brotha', 'Request', 'Love and War', 'Anything U Want (feat. Wiz Khalifa, Jeremih & Ty Dolla $ign)', 'Let Me Know (feat. Future)', 'Ridin', 'Can I', 'Deserve', 'Business', 'Translation', 'Energy', 'Ponytail', 'Get Me Home', 'Soon as I Get Home', \"Sittin' Up In My Room\", \"Can't Raise a Man\", 'Walk Away (Remember Me) (feat. The DEY)', 'Girl', 'Halo', 'Rehab', 'I Hate This Part', 'Where Have You Been', 'Flaws and All', 'Mother', 'Diamonds', 'SOS', 'Green Light', 'Baby', 'Yeah I Know', 'Dip It Low', 'Rock Wit U (Awww Baby)', 'Kitty Kat', 'Love On The Brain', 'Good Good', 'Heartbreak Hotel (feat. Faith Evans & Kelly Price)', 'Honey', 'Fantasy', \"He Wasn't Man Enough\", 'Family Affair', 'Waterfalls', 'Shake It Off', 'Real Love', 'Let Me Blow Ya Mind', 'Me, Myself and I', 'Naughty Girl', 'Obsessed', 'Get Right', 'Toxic', 'Leave (Get Out)', 'Try Again', 'Unwritten', 'Bleeding Love', 'Never Leave You (Uh Oooh, Uh Oooh)', \"Gangsta Lovin'\", 'American Boy (feat. Kanye West)', 'Unpretty', 'Scandalous - U.S. Radio Edit', \"A Woman's Worth\", 'Rock The Boat', 'Karma', 'I Get Lonely', \"I Wish I Wasn't\", 'All Your Love', 'Juicy - Radio Edit', 'My Man', 'What the F@#k You Gon Do?', 'LMK', 'Get None', 'Kool Kid', 'What You Did (feat. Ella Mai)', 'About Him', 'The Rain', 'Damn Good Time (feat. French Montana)', 'Trust Myself', 'Before You Walk Out of My Life', 'Broken Promises', 'Lowkey', 'Caramel', 'EX', 'Who Is She 2 U - Radio Edit', 'Trust And Believe', 'Just Be A Man About It', \"Not Gon' Cry\", 'Love All Over Me', 'The One', 'Understanding', 'Heaven Sent', 'Before I Do', 'Pieces', \"Boo'd Up\", 'Let It Go', 'The Weekend', 'Still', 'Enough Of No Love', \"Can't Leave 'Em Alone (feat. 50 Cent)\", 'Trip', 'You Complete Me', 'Promise', 'Treat Me Like Somebody', 'Better in Time', 'Not Anymore', 'Breathe Again', 'Everything To Me', 'Try Sleeping with a Broken Heart', \"Why Don't We Fall in Love\", 'Angel in Disguise', 'Broken Clocks', \"Almost Doesn't Count\", 'Knock You Down', 'Kisses Down Low', 'Lock U Down', 'Damage', 'Ungodly Hour', 'Lie To Me (feat. Lil Durk)', 'Bare Wit Me', 'Not Another Love Song', 'Lose Each Other', 'Nights Like This (feat. Ty Dolla $ign)', 'Forfeit. (ft. Lucky Daye)', 'On The Way (feat. Mila J)', 'Summertime (feat. P. Diddy)', 'Everything I Do', \"Playas Gon' Play\", \"I'm Coming Out\", \"It's Like That\", 'Just Fine', 'Take Me As I Am', 'Talk About Our Love (feat. Kanye West)', '1 Thing', 'Thank God I Found You (feat. Joe & Nas) - Make It Last Remix Edit', 'I Choose You - Acoustic']\n"
     ]
    }
   ],
   "source": [
    "## making if iterate trhough the list of playlists I have:\n",
    "songs = []\n",
    "for i in range(len(playlists)):\n",
    "    for song in playlists[i][\"items\"]:\n",
    "        songs.append(song[\"track\"][\"name\"])\n",
    "print(songs)"
   ]
  },
  {
   "cell_type": "code",
   "execution_count": 91,
   "metadata": {},
   "outputs": [
    {
     "data": {
      "text/plain": [
       "2975"
      ]
     },
     "execution_count": 91,
     "metadata": {},
     "output_type": "execute_result"
    }
   ],
   "source": [
    "len(songs)"
   ]
  },
  {
   "cell_type": "code",
   "execution_count": 32,
   "metadata": {},
   "outputs": [
    {
     "data": {
      "text/plain": [
       "2618"
      ]
     },
     "execution_count": 32,
     "metadata": {},
     "output_type": "execute_result"
    }
   ],
   "source": [
    "len(set(songs))"
   ]
  },
  {
   "cell_type": "code",
   "execution_count": null,
   "metadata": {},
   "outputs": [],
   "source": [
    "## now, get audio features of the songs:\n",
    "##try with one song first: search for it, get irs uri, and use in the audio feature function\n",
    "\n",
    "sp.search('High Hopes')[\"tracks\"][\"items\"][0][\"uri\"]"
   ]
  },
  {
   "cell_type": "code",
   "execution_count": 90,
   "metadata": {},
   "outputs": [
    {
     "name": "stdout",
     "output_type": "stream",
     "text": [
      "2975\n"
     ]
    }
   ],
   "source": [
    "##now try to iterate create a list with all of the uris\n",
    "uris = []\n",
    "for i in range(len(playlists)):\n",
    "    for uri in playlists[i][\"items\"]:\n",
    "        uris.append(uri[\"track\"][\"uri\"])\n",
    "print(len(uris))"
   ]
  },
  {
   "cell_type": "code",
   "execution_count": 115,
   "metadata": {},
   "outputs": [
    {
     "name": "stdout",
     "output_type": "stream",
     "text": [
      "2975\n"
     ]
    }
   ],
   "source": [
    "##now try to iterate create a list with all of the artists\n",
    "artists = []\n",
    "for i in range(len(playlists)):\n",
    "    for artist in playlists[i][\"items\"]:\n",
    "        artists.append(artist[\"track\"][\"artists\"][0][\"name\"])\n",
    "print(len(artists))"
   ]
  },
  {
   "cell_type": "code",
   "execution_count": 34,
   "metadata": {},
   "outputs": [
    {
     "name": "stdout",
     "output_type": "stream",
     "text": [
      "2975\n"
     ]
    }
   ],
   "source": [
    "## get audio features\n",
    "audio_feat = []\n",
    "for i in uris:\n",
    "    audio_feat.append(sp.audio_features(i))\n",
    "print(len(audio_feat))"
   ]
  },
  {
   "cell_type": "code",
   "execution_count": 53,
   "metadata": {},
   "outputs": [
    {
     "data": {
      "text/plain": [
       "[{'danceability': 0.545,\n",
       "  'energy': 0.67,\n",
       "  'key': 9,\n",
       "  'loudness': -8.81,\n",
       "  'mode': 1,\n",
       "  'speechiness': 0.0496,\n",
       "  'acousticness': 0.009,\n",
       "  'instrumentalness': 0.000822,\n",
       "  'liveness': 0.0451,\n",
       "  'valence': 0.481,\n",
       "  'tempo': 151.553,\n",
       "  'type': 'audio_features',\n",
       "  'id': '5e9TFTbltYBg2xThimr0rU',\n",
       "  'uri': 'spotify:track:5e9TFTbltYBg2xThimr0rU',\n",
       "  'track_href': 'https://api.spotify.com/v1/tracks/5e9TFTbltYBg2xThimr0rU',\n",
       "  'analysis_url': 'https://api.spotify.com/v1/audio-analysis/5e9TFTbltYBg2xThimr0rU',\n",
       "  'duration_ms': 270213,\n",
       "  'time_signature': 4}]"
      ]
     },
     "execution_count": 53,
     "metadata": {},
     "output_type": "execute_result"
    }
   ],
   "source": [
    "audio_feat[2]"
   ]
  },
  {
   "cell_type": "code",
   "execution_count": null,
   "metadata": {},
   "outputs": [],
   "source": [
    "# now i have: a list with song names, and a list with their audio features. Lets put them in a df"
   ]
  },
  {
   "cell_type": "code",
   "execution_count": 88,
   "metadata": {},
   "outputs": [
    {
     "data": {
      "text/plain": [
       "2975"
      ]
     },
     "execution_count": 88,
     "metadata": {},
     "output_type": "execute_result"
    }
   ],
   "source": [
    "# first, lets separate each feature, so the df has one column to each feature\n",
    "\n",
    "danceability = []\n",
    "for song in audio_feat:\n",
    "    for i in song:\n",
    "        danceability.append(i[\"danceability\"])\n",
    "len(danceability)"
   ]
  },
  {
   "cell_type": "code",
   "execution_count": 87,
   "metadata": {},
   "outputs": [
    {
     "data": {
      "text/plain": [
       "2975"
      ]
     },
     "execution_count": 87,
     "metadata": {},
     "output_type": "execute_result"
    }
   ],
   "source": [
    "loudness = []\n",
    "for song in audio_feat:\n",
    "    for i in song:\n",
    "        loudness.append(i[\"loudness\"])\n",
    "len(loudness)"
   ]
  },
  {
   "cell_type": "code",
   "execution_count": 86,
   "metadata": {},
   "outputs": [
    {
     "data": {
      "text/plain": [
       "2975"
      ]
     },
     "execution_count": 86,
     "metadata": {},
     "output_type": "execute_result"
    }
   ],
   "source": [
    "speechiness = []\n",
    "for song in audio_feat:\n",
    "    for i in song:\n",
    "        speechiness.append(i[\"speechiness\"])\n",
    "len(speechiness)"
   ]
  },
  {
   "cell_type": "code",
   "execution_count": 85,
   "metadata": {},
   "outputs": [
    {
     "data": {
      "text/plain": [
       "2975"
      ]
     },
     "execution_count": 85,
     "metadata": {},
     "output_type": "execute_result"
    }
   ],
   "source": [
    "acousticness = []\n",
    "for song in audio_feat:\n",
    "    for i in song:\n",
    "        acousticness.append(i[\"acousticness\"])\n",
    "len(acousticness)"
   ]
  },
  {
   "cell_type": "code",
   "execution_count": 84,
   "metadata": {},
   "outputs": [
    {
     "data": {
      "text/plain": [
       "2975"
      ]
     },
     "execution_count": 84,
     "metadata": {},
     "output_type": "execute_result"
    }
   ],
   "source": [
    "energy = []\n",
    "for song in audio_feat:\n",
    "    for i in song:\n",
    "        energy.append(i[\"energy\"])\n",
    "len(energy)"
   ]
  },
  {
   "cell_type": "code",
   "execution_count": 83,
   "metadata": {},
   "outputs": [
    {
     "data": {
      "text/plain": [
       "2975"
      ]
     },
     "execution_count": 83,
     "metadata": {},
     "output_type": "execute_result"
    }
   ],
   "source": [
    "instrumentalness = []\n",
    "for song in audio_feat:\n",
    "    for i in song:\n",
    "        instrumentalness.append(i[\"instrumentalness\"])\n",
    "len(instrumentalness)"
   ]
  },
  {
   "cell_type": "code",
   "execution_count": 82,
   "metadata": {},
   "outputs": [
    {
     "data": {
      "text/plain": [
       "2975"
      ]
     },
     "execution_count": 82,
     "metadata": {},
     "output_type": "execute_result"
    }
   ],
   "source": [
    "tempo = []\n",
    "for song in audio_feat:\n",
    "    for i in song:\n",
    "        tempo.append(i[\"tempo\"])\n",
    "len(tempo)"
   ]
  },
  {
   "cell_type": "code",
   "execution_count": 116,
   "metadata": {},
   "outputs": [],
   "source": [
    "import pandas as pd\n",
    "\n",
    "songs_features_dict = {\n",
    "    \"name_of_song\" : songs,\n",
    "    \"artist\": artists,\n",
    "    \"danceability\": danceability,\n",
    "    \"energy\": energy,\n",
    "    \"loudness\": loudness,\n",
    "    \"speechiness\": speechiness,\n",
    "    \"acousticness\": acousticness,\n",
    "    \"instrumentalness\": instrumentalness,\n",
    "    \"tempo\": tempo,\n",
    "    \"uri\": uris\n",
    "}\n",
    "\n",
    "songs_features = pd.DataFrame(songs_features_dict)"
   ]
  },
  {
   "cell_type": "code",
   "execution_count": 99,
   "metadata": {},
   "outputs": [
    {
     "data": {
      "text/plain": [
       "True"
      ]
     },
     "execution_count": 99,
     "metadata": {},
     "output_type": "execute_result"
    }
   ],
   "source": [
    "len(songs) == len(danceability) == len(artists) == len(uris) == len(loudness) == len(speechiness) == len(acousticness) == len(instrumentalness) == len(tempo)"
   ]
  },
  {
   "cell_type": "code",
   "execution_count": 117,
   "metadata": {},
   "outputs": [
    {
     "data": {
      "text/html": [
       "<div>\n",
       "<style scoped>\n",
       "    .dataframe tbody tr th:only-of-type {\n",
       "        vertical-align: middle;\n",
       "    }\n",
       "\n",
       "    .dataframe tbody tr th {\n",
       "        vertical-align: top;\n",
       "    }\n",
       "\n",
       "    .dataframe thead th {\n",
       "        text-align: right;\n",
       "    }\n",
       "</style>\n",
       "<table border=\"1\" class=\"dataframe\">\n",
       "  <thead>\n",
       "    <tr style=\"text-align: right;\">\n",
       "      <th></th>\n",
       "      <th>name_of_song</th>\n",
       "      <th>artist</th>\n",
       "      <th>danceability</th>\n",
       "      <th>energy</th>\n",
       "      <th>loudness</th>\n",
       "      <th>speechiness</th>\n",
       "      <th>acousticness</th>\n",
       "      <th>instrumentalness</th>\n",
       "      <th>tempo</th>\n",
       "      <th>uri</th>\n",
       "    </tr>\n",
       "  </thead>\n",
       "  <tbody>\n",
       "    <tr>\n",
       "      <td>0</td>\n",
       "      <td>Bring Me To Life</td>\n",
       "      <td>Evanescence</td>\n",
       "      <td>0.331</td>\n",
       "      <td>0.943</td>\n",
       "      <td>-3.188</td>\n",
       "      <td>0.0698</td>\n",
       "      <td>0.00721</td>\n",
       "      <td>0.000002</td>\n",
       "      <td>94.612</td>\n",
       "      <td>spotify:track:0COqiPhxzoWICwFCS4eZcp</td>\n",
       "    </tr>\n",
       "    <tr>\n",
       "      <td>1</td>\n",
       "      <td>Like The Way I Do</td>\n",
       "      <td>Melissa Etheridge</td>\n",
       "      <td>0.606</td>\n",
       "      <td>0.926</td>\n",
       "      <td>-7.428</td>\n",
       "      <td>0.0437</td>\n",
       "      <td>0.02640</td>\n",
       "      <td>0.000002</td>\n",
       "      <td>101.426</td>\n",
       "      <td>spotify:track:5cj6toDqMzkbpgkGoRav0S</td>\n",
       "    </tr>\n",
       "    <tr>\n",
       "      <td>2</td>\n",
       "      <td>The Chain - 2004 Remaster</td>\n",
       "      <td>Fleetwood Mac</td>\n",
       "      <td>0.545</td>\n",
       "      <td>0.670</td>\n",
       "      <td>-8.810</td>\n",
       "      <td>0.0496</td>\n",
       "      <td>0.00900</td>\n",
       "      <td>0.000822</td>\n",
       "      <td>151.553</td>\n",
       "      <td>spotify:track:5e9TFTbltYBg2xThimr0rU</td>\n",
       "    </tr>\n",
       "    <tr>\n",
       "      <td>3</td>\n",
       "      <td>Stars</td>\n",
       "      <td>Grace Potter &amp; The Nocturnals</td>\n",
       "      <td>0.432</td>\n",
       "      <td>0.496</td>\n",
       "      <td>-6.918</td>\n",
       "      <td>0.0274</td>\n",
       "      <td>0.18100</td>\n",
       "      <td>0.000783</td>\n",
       "      <td>140.262</td>\n",
       "      <td>spotify:track:6s7sq2Quh4TxHRfdk6eFxk</td>\n",
       "    </tr>\n",
       "    <tr>\n",
       "      <td>4</td>\n",
       "      <td>White Rabbit</td>\n",
       "      <td>Jefferson Airplane</td>\n",
       "      <td>0.551</td>\n",
       "      <td>0.293</td>\n",
       "      <td>-12.503</td>\n",
       "      <td>0.0272</td>\n",
       "      <td>0.48600</td>\n",
       "      <td>0.000273</td>\n",
       "      <td>106.798</td>\n",
       "      <td>spotify:track:4vpeKl0vMGdAXpZiQB2Dtd</td>\n",
       "    </tr>\n",
       "  </tbody>\n",
       "</table>\n",
       "</div>"
      ],
      "text/plain": [
       "                name_of_song                         artist  danceability  \\\n",
       "0           Bring Me To Life                    Evanescence         0.331   \n",
       "1          Like The Way I Do              Melissa Etheridge         0.606   \n",
       "2  The Chain - 2004 Remaster                  Fleetwood Mac         0.545   \n",
       "3                      Stars  Grace Potter & The Nocturnals         0.432   \n",
       "4               White Rabbit             Jefferson Airplane         0.551   \n",
       "\n",
       "   energy  loudness  speechiness  acousticness  instrumentalness    tempo  \\\n",
       "0   0.943    -3.188       0.0698       0.00721          0.000002   94.612   \n",
       "1   0.926    -7.428       0.0437       0.02640          0.000002  101.426   \n",
       "2   0.670    -8.810       0.0496       0.00900          0.000822  151.553   \n",
       "3   0.496    -6.918       0.0274       0.18100          0.000783  140.262   \n",
       "4   0.293   -12.503       0.0272       0.48600          0.000273  106.798   \n",
       "\n",
       "                                    uri  \n",
       "0  spotify:track:0COqiPhxzoWICwFCS4eZcp  \n",
       "1  spotify:track:5cj6toDqMzkbpgkGoRav0S  \n",
       "2  spotify:track:5e9TFTbltYBg2xThimr0rU  \n",
       "3  spotify:track:6s7sq2Quh4TxHRfdk6eFxk  \n",
       "4  spotify:track:4vpeKl0vMGdAXpZiQB2Dtd  "
      ]
     },
     "execution_count": 117,
     "metadata": {},
     "output_type": "execute_result"
    }
   ],
   "source": [
    "songs_features.head()"
   ]
  },
  {
   "cell_type": "code",
   "execution_count": 119,
   "metadata": {},
   "outputs": [
    {
     "name": "stdout",
     "output_type": "stream",
     "text": [
      "<class 'pandas.core.frame.DataFrame'>\n",
      "RangeIndex: 2975 entries, 0 to 2974\n",
      "Data columns (total 10 columns):\n",
      "name_of_song        2975 non-null object\n",
      "artist              2975 non-null object\n",
      "danceability        2975 non-null float64\n",
      "energy              2975 non-null float64\n",
      "loudness            2975 non-null float64\n",
      "speechiness         2975 non-null float64\n",
      "acousticness        2975 non-null float64\n",
      "instrumentalness    2975 non-null float64\n",
      "tempo               2975 non-null float64\n",
      "uri                 2975 non-null object\n",
      "dtypes: float64(7), object(3)\n",
      "memory usage: 232.5+ KB\n"
     ]
    }
   ],
   "source": [
    "songs_features.info()"
   ]
  },
  {
   "cell_type": "code",
   "execution_count": null,
   "metadata": {},
   "outputs": [],
   "source": []
  }
 ],
 "metadata": {
  "kernelspec": {
   "display_name": "Python 3",
   "language": "python",
   "name": "python3"
  },
  "language_info": {
   "codemirror_mode": {
    "name": "ipython",
    "version": 3
   },
   "file_extension": ".py",
   "mimetype": "text/x-python",
   "name": "python",
   "nbconvert_exporter": "python",
   "pygments_lexer": "ipython3",
   "version": "3.7.4"
  },
  "toc": {
   "base_numbering": 1,
   "nav_menu": {},
   "number_sections": true,
   "sideBar": true,
   "skip_h1_title": false,
   "title_cell": "Table of Contents",
   "title_sidebar": "Contents",
   "toc_cell": false,
   "toc_position": {},
   "toc_section_display": true,
   "toc_window_display": false
  },
  "varInspector": {
   "cols": {
    "lenName": 16,
    "lenType": 16,
    "lenVar": 40
   },
   "kernels_config": {
    "python": {
     "delete_cmd_postfix": "",
     "delete_cmd_prefix": "del ",
     "library": "var_list.py",
     "varRefreshCmd": "print(var_dic_list())"
    },
    "r": {
     "delete_cmd_postfix": ") ",
     "delete_cmd_prefix": "rm(",
     "library": "var_list.r",
     "varRefreshCmd": "cat(var_dic_list()) "
    }
   },
   "types_to_exclude": [
    "module",
    "function",
    "builtin_function_or_method",
    "instance",
    "_Feature"
   ],
   "window_display": false
  }
 },
 "nbformat": 4,
 "nbformat_minor": 2
}
