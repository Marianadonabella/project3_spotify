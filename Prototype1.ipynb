{
 "cells": [
  {
   "cell_type": "markdown",
   "metadata": {},
   "source": [
    "The goal for this prototype is to create the structure of the code, meaning:\n",
    "- Unser inputs a song\n",
    "- We check if this song belongs to list of trendy songs\n",
    "- If it does, we return another song from that list\n",
    "- If it doesn't, we say \"function still to be built\"\n",
    "\n",
    "Next steps are adding the requests from spotify API, so that we can match the song if it is not in the trendy's list"
   ]
  },
  {
   "cell_type": "code",
   "execution_count": 1,
   "metadata": {},
   "outputs": [],
   "source": [
    "import requests\n",
    "from bs4 import BeautifulSoup"
   ]
  },
  {
   "cell_type": "code",
   "execution_count": 2,
   "metadata": {},
   "outputs": [],
   "source": [
    "url = \"https://www.billboard.com/charts/hot-100\""
   ]
  },
  {
   "cell_type": "code",
   "execution_count": 3,
   "metadata": {},
   "outputs": [],
   "source": [
    "billboard = requests.get(url)"
   ]
  },
  {
   "cell_type": "code",
   "execution_count": 4,
   "metadata": {},
   "outputs": [],
   "source": [
    "soup = BeautifulSoup(billboard.content, \"html.parser\")"
   ]
  },
  {
   "cell_type": "code",
   "execution_count": 5,
   "metadata": {},
   "outputs": [
    {
     "name": "stdout",
     "output_type": "stream",
     "text": [
      "['Drivers License', '34+35', 'Mood', 'Blinding Lights', 'Positions', 'Levitating', 'Go Crazy', 'Holy', 'Bang!', 'Good Days', 'For The Night', 'I Hope', 'Therefore I Am', 'Lonely', 'Better Together', 'Body', 'Laugh Now Cry Later', 'Dakiti', 'Whoopty', 'Save Your Tears', 'Lemonade', 'Bad Boy', 'What You Know Bout Love', 'Wasted On You', '7 Summers', 'Anyone', 'More Than My Hometown', 'Willow', 'Kings & Queens', 'Before You Go', 'You Broke Me First.', \"You're Mines Still\", 'On Me', \"My Ex's Best Friend\", 'Starting Over', \"Somebody's Problem\", 'Rockstar', 'I Should Probably Go To Bed', 'Streets', 'Sand In My Boots', 'Afterglow', 'Good Time', 'Whats Poppin', 'Hole In The Bottle', 'Dynamite', 'Back In Blood', 'Diamonds', 'Savage Love (Laxed - Siren Beat)', 'Best Friend', 'WAP', 'Cry Baby', 'Without You', 'Damage', 'Throat Baby (Go Baby)', 'Masterpiece', 'Love You Like I Used To', 'Happy Does', 'Back To The Streets', 'Holiday', \"What's Your Country Song\", 'Put Your Records On', 'Champagne Night', \"Still Trappin'\", 'Beers And Sunshine', 'Forever After All', 'Still Goin Down', 'Monster', 'Big, Big Plans', 'Tyler Herro', 'Down To One', 'Cover Me Up', 'Warning', 'Just The Way', '865', 'Mr. Right Now', 'Undivided', 'Monsters', 'Take You Dancing', 'Prisoner', 'Long Live', 'The Good Ones', 'Golden', 'Buss It', 'Beat Box', 'Goosebumps', 'Hit Different', 'So Done', 'Bichota', 'Moonwalking In Calabasas', 'Adderall (Corvette Corvette)', 'Girl Like Me', 'De Una Vez', \"Momma's House\", 'Better Days', 'Lady', 'Drankin N Smokin', 'Somebody Like That', 'One Too Many', 'Hell Of A View', 'Dangerous']\n"
     ]
    }
   ],
   "source": [
    "## first, get the name of the songs:\n",
    "\n",
    "songs = soup.select(\"span.chart-element__information__song.text--truncate.color--primary\")\n",
    "\n",
    "## now puth them in a list, iterating with get_text()\n",
    "\n",
    "songs_top100 = []\n",
    "\n",
    "for s in songs:\n",
    "    songs_top100.append(s.get_text())\n",
    "print(songs_top100)\n"
   ]
  },
  {
   "cell_type": "code",
   "execution_count": 17,
   "metadata": {},
   "outputs": [],
   "source": [
    "import random\n",
    "\n",
    "def song_recommender():\n",
    "    user_input = input(\"Tell me the name of a song you like: \")\n",
    "    if user_input in songs_top100:\n",
    "        return random.choice(songs_top100)\n",
    "    else:\n",
    "        return(\"Sorry, code still in progress\")"
   ]
  },
  {
   "cell_type": "code",
   "execution_count": 18,
   "metadata": {},
   "outputs": [
    {
     "name": "stdout",
     "output_type": "stream",
     "text": [
      "Tell me the name of a song you like: jjj\n"
     ]
    },
    {
     "data": {
      "text/plain": [
       "'Sorry, code still in progress'"
      ]
     },
     "execution_count": 18,
     "metadata": {},
     "output_type": "execute_result"
    }
   ],
   "source": [
    "song_recommender()"
   ]
  },
  {
   "cell_type": "markdown",
   "metadata": {},
   "source": [
    "\"In 2018, 82.9% of artists on the year end charts were male and 17.1% were female. This computes into a gender ratio of 4.8 male artists to every one female artist.\n",
    "Our musical tastes are shaped by a number of external factors — exposure, peer and family influence, the activities we listen to music during — as well as internal preferences we have for rhythm, harmony, timbres, structure or lyrics\""
   ]
  },
  {
   "cell_type": "code",
   "execution_count": null,
   "metadata": {},
   "outputs": [],
   "source": []
  }
 ],
 "metadata": {
  "kernelspec": {
   "display_name": "Python 3",
   "language": "python",
   "name": "python3"
  },
  "language_info": {
   "codemirror_mode": {
    "name": "ipython",
    "version": 3
   },
   "file_extension": ".py",
   "mimetype": "text/x-python",
   "name": "python",
   "nbconvert_exporter": "python",
   "pygments_lexer": "ipython3",
   "version": "3.7.4"
  },
  "toc": {
   "base_numbering": 1,
   "nav_menu": {},
   "number_sections": true,
   "sideBar": true,
   "skip_h1_title": false,
   "title_cell": "Table of Contents",
   "title_sidebar": "Contents",
   "toc_cell": false,
   "toc_position": {},
   "toc_section_display": true,
   "toc_window_display": false
  },
  "varInspector": {
   "cols": {
    "lenName": 16,
    "lenType": 16,
    "lenVar": 40
   },
   "kernels_config": {
    "python": {
     "delete_cmd_postfix": "",
     "delete_cmd_prefix": "del ",
     "library": "var_list.py",
     "varRefreshCmd": "print(var_dic_list())"
    },
    "r": {
     "delete_cmd_postfix": ") ",
     "delete_cmd_prefix": "rm(",
     "library": "var_list.r",
     "varRefreshCmd": "cat(var_dic_list()) "
    }
   },
   "types_to_exclude": [
    "module",
    "function",
    "builtin_function_or_method",
    "instance",
    "_Feature"
   ],
   "window_display": false
  }
 },
 "nbformat": 4,
 "nbformat_minor": 2
}
